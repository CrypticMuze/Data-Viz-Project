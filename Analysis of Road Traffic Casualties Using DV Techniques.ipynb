{
 "cells": [
  {
   "cell_type": "markdown",
   "metadata": {},
   "source": [
    "# Code with Visuals"
   ]
  },
  {
   "cell_type": "markdown",
   "metadata": {},
   "source": [
    "## Introduction to the dataset and cleaning the data"
   ]
  },
  {
   "cell_type": "code",
   "execution_count": 1,
   "metadata": {
    "_cell_guid": "b1076dfc-b9ad-4769-8c92-a6c4dae69d19",
    "_uuid": "8f2839f25d086af736a60e9eeb907d3b93b6e0e5"
   },
   "outputs": [],
   "source": [
    "import numpy as np\n",
    "import pandas as pd\n",
    "import matplotlib.pyplot as plt\n",
    "import seaborn as sns\n",
    "%matplotlib inline\n",
    "from sklearn.model_selection import train_test_split\n",
    "from sklearn.tree import DecisionTreeClassifier\n",
    "from sklearn.metrics import classification_report, confusion_matrix\n",
    "from sklearn.tree import export_graphviz\n",
    "from six import StringIO\n",
    "from IPython.display import Image\n",
    "import pydotplus"
   ]
  },
  {
   "cell_type": "code",
   "execution_count": 2,
   "metadata": {
    "_uuid": "e6d9ab29c13e985397eaa17e1d5d5a5655197215"
   },
   "outputs": [
    {
     "name": "stderr",
     "output_type": "stream",
     "text": [
      "C:\\Anaconda\\lib\\site-packages\\IPython\\core\\interactiveshell.py:3155: DtypeWarning: Columns (31) have mixed types.Specify dtype option on import or set low_memory=False.\n",
      "  has_raised = await self.run_ast_nodes(code_ast.body, cell_name,\n"
     ]
    }
   ],
   "source": [
    "casual_df=pd.read_csv('Casualties0514.csv')\n",
    "accident_df=pd.read_csv('Accidents0514.csv')\n",
    "vehicle_df=pd.read_csv('Vehicles0514.csv')"
   ]
  },
  {
   "cell_type": "code",
   "execution_count": 3,
   "metadata": {
    "_uuid": "a3874facba1bad43c9a17b58e9157d4c8423b09e"
   },
   "outputs": [
    {
     "data": {
      "text/html": [
       "<div>\n",
       "<style scoped>\n",
       "    .dataframe tbody tr th:only-of-type {\n",
       "        vertical-align: middle;\n",
       "    }\n",
       "\n",
       "    .dataframe tbody tr th {\n",
       "        vertical-align: top;\n",
       "    }\n",
       "\n",
       "    .dataframe thead th {\n",
       "        text-align: right;\n",
       "    }\n",
       "</style>\n",
       "<table border=\"1\" class=\"dataframe\">\n",
       "  <thead>\n",
       "    <tr style=\"text-align: right;\">\n",
       "      <th></th>\n",
       "      <th>Accident_Index</th>\n",
       "      <th>Vehicle_Reference</th>\n",
       "      <th>Casualty_Reference</th>\n",
       "      <th>Casualty_Class</th>\n",
       "      <th>Sex_of_Casualty</th>\n",
       "      <th>Age_of_Casualty</th>\n",
       "      <th>Age_Band_of_Casualty</th>\n",
       "      <th>Casualty_Severity</th>\n",
       "      <th>Pedestrian_Location</th>\n",
       "      <th>Pedestrian_Movement</th>\n",
       "      <th>Car_Passenger</th>\n",
       "      <th>Bus_or_Coach_Passenger</th>\n",
       "      <th>Pedestrian_Road_Maintenance_Worker</th>\n",
       "      <th>Casualty_Type</th>\n",
       "      <th>Casualty_Home_Area_Type</th>\n",
       "    </tr>\n",
       "  </thead>\n",
       "  <tbody>\n",
       "    <tr>\n",
       "      <th>0</th>\n",
       "      <td>200501BS00001</td>\n",
       "      <td>1</td>\n",
       "      <td>1</td>\n",
       "      <td>3</td>\n",
       "      <td>1</td>\n",
       "      <td>37</td>\n",
       "      <td>7</td>\n",
       "      <td>2</td>\n",
       "      <td>1</td>\n",
       "      <td>1</td>\n",
       "      <td>0</td>\n",
       "      <td>0</td>\n",
       "      <td>-1</td>\n",
       "      <td>0</td>\n",
       "      <td>1</td>\n",
       "    </tr>\n",
       "    <tr>\n",
       "      <th>1</th>\n",
       "      <td>200501BS00002</td>\n",
       "      <td>1</td>\n",
       "      <td>1</td>\n",
       "      <td>2</td>\n",
       "      <td>1</td>\n",
       "      <td>37</td>\n",
       "      <td>7</td>\n",
       "      <td>3</td>\n",
       "      <td>0</td>\n",
       "      <td>0</td>\n",
       "      <td>0</td>\n",
       "      <td>4</td>\n",
       "      <td>-1</td>\n",
       "      <td>11</td>\n",
       "      <td>1</td>\n",
       "    </tr>\n",
       "    <tr>\n",
       "      <th>2</th>\n",
       "      <td>200501BS00003</td>\n",
       "      <td>2</td>\n",
       "      <td>1</td>\n",
       "      <td>1</td>\n",
       "      <td>1</td>\n",
       "      <td>62</td>\n",
       "      <td>9</td>\n",
       "      <td>3</td>\n",
       "      <td>0</td>\n",
       "      <td>0</td>\n",
       "      <td>0</td>\n",
       "      <td>0</td>\n",
       "      <td>-1</td>\n",
       "      <td>9</td>\n",
       "      <td>1</td>\n",
       "    </tr>\n",
       "    <tr>\n",
       "      <th>3</th>\n",
       "      <td>200501BS00004</td>\n",
       "      <td>1</td>\n",
       "      <td>1</td>\n",
       "      <td>3</td>\n",
       "      <td>1</td>\n",
       "      <td>30</td>\n",
       "      <td>6</td>\n",
       "      <td>3</td>\n",
       "      <td>5</td>\n",
       "      <td>2</td>\n",
       "      <td>0</td>\n",
       "      <td>0</td>\n",
       "      <td>-1</td>\n",
       "      <td>0</td>\n",
       "      <td>1</td>\n",
       "    </tr>\n",
       "    <tr>\n",
       "      <th>4</th>\n",
       "      <td>200501BS00005</td>\n",
       "      <td>1</td>\n",
       "      <td>1</td>\n",
       "      <td>1</td>\n",
       "      <td>1</td>\n",
       "      <td>49</td>\n",
       "      <td>8</td>\n",
       "      <td>3</td>\n",
       "      <td>0</td>\n",
       "      <td>0</td>\n",
       "      <td>0</td>\n",
       "      <td>0</td>\n",
       "      <td>-1</td>\n",
       "      <td>3</td>\n",
       "      <td>-1</td>\n",
       "    </tr>\n",
       "  </tbody>\n",
       "</table>\n",
       "</div>"
      ],
      "text/plain": [
       "  Accident_Index  Vehicle_Reference  Casualty_Reference  Casualty_Class  \\\n",
       "0  200501BS00001                  1                   1               3   \n",
       "1  200501BS00002                  1                   1               2   \n",
       "2  200501BS00003                  2                   1               1   \n",
       "3  200501BS00004                  1                   1               3   \n",
       "4  200501BS00005                  1                   1               1   \n",
       "\n",
       "   Sex_of_Casualty  Age_of_Casualty  Age_Band_of_Casualty  Casualty_Severity  \\\n",
       "0                1               37                     7                  2   \n",
       "1                1               37                     7                  3   \n",
       "2                1               62                     9                  3   \n",
       "3                1               30                     6                  3   \n",
       "4                1               49                     8                  3   \n",
       "\n",
       "   Pedestrian_Location  Pedestrian_Movement  Car_Passenger  \\\n",
       "0                    1                    1              0   \n",
       "1                    0                    0              0   \n",
       "2                    0                    0              0   \n",
       "3                    5                    2              0   \n",
       "4                    0                    0              0   \n",
       "\n",
       "   Bus_or_Coach_Passenger  Pedestrian_Road_Maintenance_Worker  Casualty_Type  \\\n",
       "0                       0                                  -1              0   \n",
       "1                       4                                  -1             11   \n",
       "2                       0                                  -1              9   \n",
       "3                       0                                  -1              0   \n",
       "4                       0                                  -1              3   \n",
       "\n",
       "   Casualty_Home_Area_Type  \n",
       "0                        1  \n",
       "1                        1  \n",
       "2                        1  \n",
       "3                        1  \n",
       "4                       -1  "
      ]
     },
     "execution_count": 3,
     "metadata": {},
     "output_type": "execute_result"
    }
   ],
   "source": [
    "casual_df.head()"
   ]
  },
  {
   "cell_type": "code",
   "execution_count": 4,
   "metadata": {
    "_uuid": "65ded1166194478450954975c24c277b5f8e77ab"
   },
   "outputs": [
    {
     "data": {
      "text/html": [
       "<div>\n",
       "<style scoped>\n",
       "    .dataframe tbody tr th:only-of-type {\n",
       "        vertical-align: middle;\n",
       "    }\n",
       "\n",
       "    .dataframe tbody tr th {\n",
       "        vertical-align: top;\n",
       "    }\n",
       "\n",
       "    .dataframe thead th {\n",
       "        text-align: right;\n",
       "    }\n",
       "</style>\n",
       "<table border=\"1\" class=\"dataframe\">\n",
       "  <thead>\n",
       "    <tr style=\"text-align: right;\">\n",
       "      <th></th>\n",
       "      <th>Accident_Index</th>\n",
       "      <th>Location_Easting_OSGR</th>\n",
       "      <th>Location_Northing_OSGR</th>\n",
       "      <th>Longitude</th>\n",
       "      <th>Latitude</th>\n",
       "      <th>Police_Force</th>\n",
       "      <th>Accident_Severity</th>\n",
       "      <th>Number_of_Vehicles</th>\n",
       "      <th>Number_of_Casualties</th>\n",
       "      <th>Date</th>\n",
       "      <th>...</th>\n",
       "      <th>Pedestrian_Crossing-Human_Control</th>\n",
       "      <th>Pedestrian_Crossing-Physical_Facilities</th>\n",
       "      <th>Light_Conditions</th>\n",
       "      <th>Weather_Conditions</th>\n",
       "      <th>Road_Surface_Conditions</th>\n",
       "      <th>Special_Conditions_at_Site</th>\n",
       "      <th>Carriageway_Hazards</th>\n",
       "      <th>Urban_or_Rural_Area</th>\n",
       "      <th>Did_Police_Officer_Attend_Scene_of_Accident</th>\n",
       "      <th>LSOA_of_Accident_Location</th>\n",
       "    </tr>\n",
       "  </thead>\n",
       "  <tbody>\n",
       "    <tr>\n",
       "      <th>0</th>\n",
       "      <td>200501BS00001</td>\n",
       "      <td>525680.0</td>\n",
       "      <td>178240.0</td>\n",
       "      <td>-0.191170</td>\n",
       "      <td>51.489096</td>\n",
       "      <td>1</td>\n",
       "      <td>2</td>\n",
       "      <td>1</td>\n",
       "      <td>1</td>\n",
       "      <td>04/01/2005</td>\n",
       "      <td>...</td>\n",
       "      <td>0</td>\n",
       "      <td>1</td>\n",
       "      <td>1</td>\n",
       "      <td>2</td>\n",
       "      <td>2</td>\n",
       "      <td>0</td>\n",
       "      <td>0</td>\n",
       "      <td>1</td>\n",
       "      <td>1</td>\n",
       "      <td>E01002849</td>\n",
       "    </tr>\n",
       "    <tr>\n",
       "      <th>1</th>\n",
       "      <td>200501BS00002</td>\n",
       "      <td>524170.0</td>\n",
       "      <td>181650.0</td>\n",
       "      <td>-0.211708</td>\n",
       "      <td>51.520075</td>\n",
       "      <td>1</td>\n",
       "      <td>3</td>\n",
       "      <td>1</td>\n",
       "      <td>1</td>\n",
       "      <td>05/01/2005</td>\n",
       "      <td>...</td>\n",
       "      <td>0</td>\n",
       "      <td>5</td>\n",
       "      <td>4</td>\n",
       "      <td>1</td>\n",
       "      <td>1</td>\n",
       "      <td>0</td>\n",
       "      <td>0</td>\n",
       "      <td>1</td>\n",
       "      <td>1</td>\n",
       "      <td>E01002909</td>\n",
       "    </tr>\n",
       "    <tr>\n",
       "      <th>2</th>\n",
       "      <td>200501BS00003</td>\n",
       "      <td>524520.0</td>\n",
       "      <td>182240.0</td>\n",
       "      <td>-0.206458</td>\n",
       "      <td>51.525301</td>\n",
       "      <td>1</td>\n",
       "      <td>3</td>\n",
       "      <td>2</td>\n",
       "      <td>1</td>\n",
       "      <td>06/01/2005</td>\n",
       "      <td>...</td>\n",
       "      <td>0</td>\n",
       "      <td>0</td>\n",
       "      <td>4</td>\n",
       "      <td>1</td>\n",
       "      <td>1</td>\n",
       "      <td>0</td>\n",
       "      <td>0</td>\n",
       "      <td>1</td>\n",
       "      <td>1</td>\n",
       "      <td>E01002857</td>\n",
       "    </tr>\n",
       "    <tr>\n",
       "      <th>3</th>\n",
       "      <td>200501BS00004</td>\n",
       "      <td>526900.0</td>\n",
       "      <td>177530.0</td>\n",
       "      <td>-0.173862</td>\n",
       "      <td>51.482442</td>\n",
       "      <td>1</td>\n",
       "      <td>3</td>\n",
       "      <td>1</td>\n",
       "      <td>1</td>\n",
       "      <td>07/01/2005</td>\n",
       "      <td>...</td>\n",
       "      <td>0</td>\n",
       "      <td>0</td>\n",
       "      <td>1</td>\n",
       "      <td>1</td>\n",
       "      <td>1</td>\n",
       "      <td>0</td>\n",
       "      <td>0</td>\n",
       "      <td>1</td>\n",
       "      <td>1</td>\n",
       "      <td>E01002840</td>\n",
       "    </tr>\n",
       "    <tr>\n",
       "      <th>4</th>\n",
       "      <td>200501BS00005</td>\n",
       "      <td>528060.0</td>\n",
       "      <td>179040.0</td>\n",
       "      <td>-0.156618</td>\n",
       "      <td>51.495752</td>\n",
       "      <td>1</td>\n",
       "      <td>3</td>\n",
       "      <td>1</td>\n",
       "      <td>1</td>\n",
       "      <td>10/01/2005</td>\n",
       "      <td>...</td>\n",
       "      <td>0</td>\n",
       "      <td>0</td>\n",
       "      <td>7</td>\n",
       "      <td>1</td>\n",
       "      <td>2</td>\n",
       "      <td>0</td>\n",
       "      <td>0</td>\n",
       "      <td>1</td>\n",
       "      <td>1</td>\n",
       "      <td>E01002863</td>\n",
       "    </tr>\n",
       "  </tbody>\n",
       "</table>\n",
       "<p>5 rows × 32 columns</p>\n",
       "</div>"
      ],
      "text/plain": [
       "  Accident_Index  Location_Easting_OSGR  Location_Northing_OSGR  Longitude  \\\n",
       "0  200501BS00001               525680.0                178240.0  -0.191170   \n",
       "1  200501BS00002               524170.0                181650.0  -0.211708   \n",
       "2  200501BS00003               524520.0                182240.0  -0.206458   \n",
       "3  200501BS00004               526900.0                177530.0  -0.173862   \n",
       "4  200501BS00005               528060.0                179040.0  -0.156618   \n",
       "\n",
       "    Latitude  Police_Force  Accident_Severity  Number_of_Vehicles  \\\n",
       "0  51.489096             1                  2                   1   \n",
       "1  51.520075             1                  3                   1   \n",
       "2  51.525301             1                  3                   2   \n",
       "3  51.482442             1                  3                   1   \n",
       "4  51.495752             1                  3                   1   \n",
       "\n",
       "   Number_of_Casualties        Date  ...  Pedestrian_Crossing-Human_Control  \\\n",
       "0                     1  04/01/2005  ...                                  0   \n",
       "1                     1  05/01/2005  ...                                  0   \n",
       "2                     1  06/01/2005  ...                                  0   \n",
       "3                     1  07/01/2005  ...                                  0   \n",
       "4                     1  10/01/2005  ...                                  0   \n",
       "\n",
       "  Pedestrian_Crossing-Physical_Facilities  Light_Conditions  \\\n",
       "0                                       1                 1   \n",
       "1                                       5                 4   \n",
       "2                                       0                 4   \n",
       "3                                       0                 1   \n",
       "4                                       0                 7   \n",
       "\n",
       "  Weather_Conditions  Road_Surface_Conditions  Special_Conditions_at_Site  \\\n",
       "0                  2                        2                           0   \n",
       "1                  1                        1                           0   \n",
       "2                  1                        1                           0   \n",
       "3                  1                        1                           0   \n",
       "4                  1                        2                           0   \n",
       "\n",
       "   Carriageway_Hazards  Urban_or_Rural_Area  \\\n",
       "0                    0                    1   \n",
       "1                    0                    1   \n",
       "2                    0                    1   \n",
       "3                    0                    1   \n",
       "4                    0                    1   \n",
       "\n",
       "   Did_Police_Officer_Attend_Scene_of_Accident  LSOA_of_Accident_Location  \n",
       "0                                            1                  E01002849  \n",
       "1                                            1                  E01002909  \n",
       "2                                            1                  E01002857  \n",
       "3                                            1                  E01002840  \n",
       "4                                            1                  E01002863  \n",
       "\n",
       "[5 rows x 32 columns]"
      ]
     },
     "execution_count": 4,
     "metadata": {},
     "output_type": "execute_result"
    }
   ],
   "source": [
    "accident_df.head()"
   ]
  },
  {
   "cell_type": "code",
   "execution_count": 5,
   "metadata": {
    "_uuid": "08db8e535818f4871853c51ca483a0c858c62a33"
   },
   "outputs": [
    {
     "data": {
      "text/html": [
       "<div>\n",
       "<style scoped>\n",
       "    .dataframe tbody tr th:only-of-type {\n",
       "        vertical-align: middle;\n",
       "    }\n",
       "\n",
       "    .dataframe tbody tr th {\n",
       "        vertical-align: top;\n",
       "    }\n",
       "\n",
       "    .dataframe thead th {\n",
       "        text-align: right;\n",
       "    }\n",
       "</style>\n",
       "<table border=\"1\" class=\"dataframe\">\n",
       "  <thead>\n",
       "    <tr style=\"text-align: right;\">\n",
       "      <th></th>\n",
       "      <th>Accident_Index</th>\n",
       "      <th>Vehicle_Reference</th>\n",
       "      <th>Vehicle_Type</th>\n",
       "      <th>Towing_and_Articulation</th>\n",
       "      <th>Vehicle_Manoeuvre</th>\n",
       "      <th>Vehicle_Location-Restricted_Lane</th>\n",
       "      <th>Junction_Location</th>\n",
       "      <th>Skidding_and_Overturning</th>\n",
       "      <th>Hit_Object_in_Carriageway</th>\n",
       "      <th>Vehicle_Leaving_Carriageway</th>\n",
       "      <th>...</th>\n",
       "      <th>Was_Vehicle_Left_Hand_Drive?</th>\n",
       "      <th>Journey_Purpose_of_Driver</th>\n",
       "      <th>Sex_of_Driver</th>\n",
       "      <th>Age_of_Driver</th>\n",
       "      <th>Age_Band_of_Driver</th>\n",
       "      <th>Engine_Capacity_(CC)</th>\n",
       "      <th>Propulsion_Code</th>\n",
       "      <th>Age_of_Vehicle</th>\n",
       "      <th>Driver_IMD_Decile</th>\n",
       "      <th>Driver_Home_Area_Type</th>\n",
       "    </tr>\n",
       "  </thead>\n",
       "  <tbody>\n",
       "    <tr>\n",
       "      <th>0</th>\n",
       "      <td>200501BS00001</td>\n",
       "      <td>1</td>\n",
       "      <td>9</td>\n",
       "      <td>0</td>\n",
       "      <td>18</td>\n",
       "      <td>0</td>\n",
       "      <td>0</td>\n",
       "      <td>0</td>\n",
       "      <td>0</td>\n",
       "      <td>0</td>\n",
       "      <td>...</td>\n",
       "      <td>1</td>\n",
       "      <td>15</td>\n",
       "      <td>2</td>\n",
       "      <td>74</td>\n",
       "      <td>10</td>\n",
       "      <td>-1</td>\n",
       "      <td>-1</td>\n",
       "      <td>-1</td>\n",
       "      <td>7</td>\n",
       "      <td>1</td>\n",
       "    </tr>\n",
       "    <tr>\n",
       "      <th>1</th>\n",
       "      <td>200501BS00002</td>\n",
       "      <td>1</td>\n",
       "      <td>11</td>\n",
       "      <td>0</td>\n",
       "      <td>4</td>\n",
       "      <td>0</td>\n",
       "      <td>3</td>\n",
       "      <td>0</td>\n",
       "      <td>0</td>\n",
       "      <td>0</td>\n",
       "      <td>...</td>\n",
       "      <td>1</td>\n",
       "      <td>1</td>\n",
       "      <td>1</td>\n",
       "      <td>42</td>\n",
       "      <td>7</td>\n",
       "      <td>8268</td>\n",
       "      <td>2</td>\n",
       "      <td>3</td>\n",
       "      <td>-1</td>\n",
       "      <td>-1</td>\n",
       "    </tr>\n",
       "    <tr>\n",
       "      <th>2</th>\n",
       "      <td>200501BS00003</td>\n",
       "      <td>1</td>\n",
       "      <td>11</td>\n",
       "      <td>0</td>\n",
       "      <td>17</td>\n",
       "      <td>0</td>\n",
       "      <td>0</td>\n",
       "      <td>0</td>\n",
       "      <td>4</td>\n",
       "      <td>0</td>\n",
       "      <td>...</td>\n",
       "      <td>1</td>\n",
       "      <td>1</td>\n",
       "      <td>1</td>\n",
       "      <td>35</td>\n",
       "      <td>6</td>\n",
       "      <td>8300</td>\n",
       "      <td>2</td>\n",
       "      <td>5</td>\n",
       "      <td>2</td>\n",
       "      <td>1</td>\n",
       "    </tr>\n",
       "    <tr>\n",
       "      <th>3</th>\n",
       "      <td>200501BS00003</td>\n",
       "      <td>2</td>\n",
       "      <td>9</td>\n",
       "      <td>0</td>\n",
       "      <td>2</td>\n",
       "      <td>0</td>\n",
       "      <td>0</td>\n",
       "      <td>0</td>\n",
       "      <td>0</td>\n",
       "      <td>0</td>\n",
       "      <td>...</td>\n",
       "      <td>1</td>\n",
       "      <td>15</td>\n",
       "      <td>1</td>\n",
       "      <td>62</td>\n",
       "      <td>9</td>\n",
       "      <td>1762</td>\n",
       "      <td>1</td>\n",
       "      <td>6</td>\n",
       "      <td>1</td>\n",
       "      <td>1</td>\n",
       "    </tr>\n",
       "    <tr>\n",
       "      <th>4</th>\n",
       "      <td>200501BS00004</td>\n",
       "      <td>1</td>\n",
       "      <td>9</td>\n",
       "      <td>0</td>\n",
       "      <td>18</td>\n",
       "      <td>0</td>\n",
       "      <td>0</td>\n",
       "      <td>0</td>\n",
       "      <td>0</td>\n",
       "      <td>0</td>\n",
       "      <td>...</td>\n",
       "      <td>1</td>\n",
       "      <td>15</td>\n",
       "      <td>2</td>\n",
       "      <td>49</td>\n",
       "      <td>8</td>\n",
       "      <td>1769</td>\n",
       "      <td>1</td>\n",
       "      <td>4</td>\n",
       "      <td>2</td>\n",
       "      <td>1</td>\n",
       "    </tr>\n",
       "  </tbody>\n",
       "</table>\n",
       "<p>5 rows × 22 columns</p>\n",
       "</div>"
      ],
      "text/plain": [
       "  Accident_Index  Vehicle_Reference  Vehicle_Type  Towing_and_Articulation  \\\n",
       "0  200501BS00001                  1             9                        0   \n",
       "1  200501BS00002                  1            11                        0   \n",
       "2  200501BS00003                  1            11                        0   \n",
       "3  200501BS00003                  2             9                        0   \n",
       "4  200501BS00004                  1             9                        0   \n",
       "\n",
       "   Vehicle_Manoeuvre  Vehicle_Location-Restricted_Lane  Junction_Location  \\\n",
       "0                 18                                 0                  0   \n",
       "1                  4                                 0                  3   \n",
       "2                 17                                 0                  0   \n",
       "3                  2                                 0                  0   \n",
       "4                 18                                 0                  0   \n",
       "\n",
       "   Skidding_and_Overturning  Hit_Object_in_Carriageway  \\\n",
       "0                         0                          0   \n",
       "1                         0                          0   \n",
       "2                         0                          4   \n",
       "3                         0                          0   \n",
       "4                         0                          0   \n",
       "\n",
       "   Vehicle_Leaving_Carriageway  ...  Was_Vehicle_Left_Hand_Drive?  \\\n",
       "0                            0  ...                             1   \n",
       "1                            0  ...                             1   \n",
       "2                            0  ...                             1   \n",
       "3                            0  ...                             1   \n",
       "4                            0  ...                             1   \n",
       "\n",
       "   Journey_Purpose_of_Driver  Sex_of_Driver  Age_of_Driver  \\\n",
       "0                         15              2             74   \n",
       "1                          1              1             42   \n",
       "2                          1              1             35   \n",
       "3                         15              1             62   \n",
       "4                         15              2             49   \n",
       "\n",
       "   Age_Band_of_Driver  Engine_Capacity_(CC)  Propulsion_Code  Age_of_Vehicle  \\\n",
       "0                  10                    -1               -1              -1   \n",
       "1                   7                  8268                2               3   \n",
       "2                   6                  8300                2               5   \n",
       "3                   9                  1762                1               6   \n",
       "4                   8                  1769                1               4   \n",
       "\n",
       "   Driver_IMD_Decile  Driver_Home_Area_Type  \n",
       "0                  7                      1  \n",
       "1                 -1                     -1  \n",
       "2                  2                      1  \n",
       "3                  1                      1  \n",
       "4                  2                      1  \n",
       "\n",
       "[5 rows x 22 columns]"
      ]
     },
     "execution_count": 5,
     "metadata": {},
     "output_type": "execute_result"
    }
   ],
   "source": [
    "vehicle_df.head()"
   ]
  },
  {
   "cell_type": "code",
   "execution_count": 6,
   "metadata": {
    "_uuid": "2d3e150742d73382d212d8070761f745fb4ed50e"
   },
   "outputs": [
    {
     "name": "stdout",
     "output_type": "stream",
     "text": [
      "<class 'pandas.core.frame.DataFrame'>\n",
      "RangeIndex: 1640597 entries, 0 to 1640596\n",
      "Data columns (total 32 columns):\n",
      " #   Column                                       Non-Null Count    Dtype  \n",
      "---  ------                                       --------------    -----  \n",
      " 0   Accident_Index                               1640597 non-null  object \n",
      " 1   Location_Easting_OSGR                        1640486 non-null  float64\n",
      " 2   Location_Northing_OSGR                       1640486 non-null  float64\n",
      " 3   Longitude                                    1640486 non-null  float64\n",
      " 4   Latitude                                     1640486 non-null  float64\n",
      " 5   Police_Force                                 1640597 non-null  int64  \n",
      " 6   Accident_Severity                            1640597 non-null  int64  \n",
      " 7   Number_of_Vehicles                           1640597 non-null  int64  \n",
      " 8   Number_of_Casualties                         1640597 non-null  int64  \n",
      " 9   Date                                         1640597 non-null  object \n",
      " 10  Day_of_Week                                  1640597 non-null  int64  \n",
      " 11  Time                                         1640464 non-null  object \n",
      " 12  Local_Authority_(District)                   1640597 non-null  int64  \n",
      " 13  Local_Authority_(Highway)                    1640597 non-null  object \n",
      " 14  1st_Road_Class                               1640597 non-null  int64  \n",
      " 15  1st_Road_Number                              1640597 non-null  int64  \n",
      " 16  Road_Type                                    1640597 non-null  int64  \n",
      " 17  Speed_limit                                  1640597 non-null  int64  \n",
      " 18  Junction_Detail                              1640597 non-null  int64  \n",
      " 19  Junction_Control                             1640597 non-null  int64  \n",
      " 20  2nd_Road_Class                               1640597 non-null  int64  \n",
      " 21  2nd_Road_Number                              1640597 non-null  int64  \n",
      " 22  Pedestrian_Crossing-Human_Control            1640597 non-null  int64  \n",
      " 23  Pedestrian_Crossing-Physical_Facilities      1640597 non-null  int64  \n",
      " 24  Light_Conditions                             1640597 non-null  int64  \n",
      " 25  Weather_Conditions                           1640597 non-null  int64  \n",
      " 26  Road_Surface_Conditions                      1640597 non-null  int64  \n",
      " 27  Special_Conditions_at_Site                   1640597 non-null  int64  \n",
      " 28  Carriageway_Hazards                          1640597 non-null  int64  \n",
      " 29  Urban_or_Rural_Area                          1640597 non-null  int64  \n",
      " 30  Did_Police_Officer_Attend_Scene_of_Accident  1640597 non-null  int64  \n",
      " 31  LSOA_of_Accident_Location                    1520023 non-null  object \n",
      "dtypes: float64(4), int64(23), object(5)\n",
      "memory usage: 400.5+ MB\n"
     ]
    }
   ],
   "source": [
    "accident_df.info()"
   ]
  },
  {
   "cell_type": "code",
   "execution_count": 7,
   "metadata": {
    "_uuid": "5835ea4e1c1d071fc4a05c66072198cd047ce049"
   },
   "outputs": [
    {
     "name": "stdout",
     "output_type": "stream",
     "text": [
      "<class 'pandas.core.frame.DataFrame'>\n",
      "RangeIndex: 3004425 entries, 0 to 3004424\n",
      "Data columns (total 22 columns):\n",
      " #   Column                            Dtype \n",
      "---  ------                            ----- \n",
      " 0   Accident_Index                    object\n",
      " 1   Vehicle_Reference                 int64 \n",
      " 2   Vehicle_Type                      int64 \n",
      " 3   Towing_and_Articulation           int64 \n",
      " 4   Vehicle_Manoeuvre                 int64 \n",
      " 5   Vehicle_Location-Restricted_Lane  int64 \n",
      " 6   Junction_Location                 int64 \n",
      " 7   Skidding_and_Overturning          int64 \n",
      " 8   Hit_Object_in_Carriageway         int64 \n",
      " 9   Vehicle_Leaving_Carriageway       int64 \n",
      " 10  Hit_Object_off_Carriageway        int64 \n",
      " 11  1st_Point_of_Impact               int64 \n",
      " 12  Was_Vehicle_Left_Hand_Drive?      int64 \n",
      " 13  Journey_Purpose_of_Driver         int64 \n",
      " 14  Sex_of_Driver                     int64 \n",
      " 15  Age_of_Driver                     int64 \n",
      " 16  Age_Band_of_Driver                int64 \n",
      " 17  Engine_Capacity_(CC)              int64 \n",
      " 18  Propulsion_Code                   int64 \n",
      " 19  Age_of_Vehicle                    int64 \n",
      " 20  Driver_IMD_Decile                 int64 \n",
      " 21  Driver_Home_Area_Type             int64 \n",
      "dtypes: int64(21), object(1)\n",
      "memory usage: 504.3+ MB\n"
     ]
    }
   ],
   "source": [
    "vehicle_df.info()"
   ]
  },
  {
   "cell_type": "code",
   "execution_count": 8,
   "metadata": {
    "_uuid": "9d10a356287f0f58da54b49e2b74970cb70e3ec3"
   },
   "outputs": [
    {
     "name": "stdout",
     "output_type": "stream",
     "text": [
      "<class 'pandas.core.frame.DataFrame'>\n",
      "RangeIndex: 2216720 entries, 0 to 2216719\n",
      "Data columns (total 15 columns):\n",
      " #   Column                              Dtype \n",
      "---  ------                              ----- \n",
      " 0   Accident_Index                      object\n",
      " 1   Vehicle_Reference                   int64 \n",
      " 2   Casualty_Reference                  int64 \n",
      " 3   Casualty_Class                      int64 \n",
      " 4   Sex_of_Casualty                     int64 \n",
      " 5   Age_of_Casualty                     int64 \n",
      " 6   Age_Band_of_Casualty                int64 \n",
      " 7   Casualty_Severity                   int64 \n",
      " 8   Pedestrian_Location                 int64 \n",
      " 9   Pedestrian_Movement                 int64 \n",
      " 10  Car_Passenger                       int64 \n",
      " 11  Bus_or_Coach_Passenger              int64 \n",
      " 12  Pedestrian_Road_Maintenance_Worker  int64 \n",
      " 13  Casualty_Type                       int64 \n",
      " 14  Casualty_Home_Area_Type             int64 \n",
      "dtypes: int64(14), object(1)\n",
      "memory usage: 253.7+ MB\n"
     ]
    }
   ],
   "source": [
    "casual_df.info()"
   ]
  },
  {
   "cell_type": "code",
   "execution_count": 9,
   "metadata": {
    "_uuid": "f71049fc50a4724ae77dc7332b54e400fa28b868"
   },
   "outputs": [],
   "source": [
    "first_df=pd.merge(casual_df,accident_df,on='Accident_Index')\n",
    "df=pd.merge(first_df,vehicle_df,on='Accident_Index')"
   ]
  },
  {
   "cell_type": "code",
   "execution_count": 10,
   "metadata": {
    "_uuid": "60acd17bae193236696de7064423e5f14b151b7b"
   },
   "outputs": [
    {
     "name": "stdout",
     "output_type": "stream",
     "text": [
      "<class 'pandas.core.frame.DataFrame'>\n",
      "Int64Index: 4287593 entries, 0 to 4287592\n",
      "Data columns (total 67 columns):\n",
      " #   Column                                       Dtype  \n",
      "---  ------                                       -----  \n",
      " 0   Accident_Index                               object \n",
      " 1   Vehicle_Reference_x                          int64  \n",
      " 2   Casualty_Reference                           int64  \n",
      " 3   Casualty_Class                               int64  \n",
      " 4   Sex_of_Casualty                              int64  \n",
      " 5   Age_of_Casualty                              int64  \n",
      " 6   Age_Band_of_Casualty                         int64  \n",
      " 7   Casualty_Severity                            int64  \n",
      " 8   Pedestrian_Location                          int64  \n",
      " 9   Pedestrian_Movement                          int64  \n",
      " 10  Car_Passenger                                int64  \n",
      " 11  Bus_or_Coach_Passenger                       int64  \n",
      " 12  Pedestrian_Road_Maintenance_Worker           int64  \n",
      " 13  Casualty_Type                                int64  \n",
      " 14  Casualty_Home_Area_Type                      int64  \n",
      " 15  Location_Easting_OSGR                        float64\n",
      " 16  Location_Northing_OSGR                       float64\n",
      " 17  Longitude                                    float64\n",
      " 18  Latitude                                     float64\n",
      " 19  Police_Force                                 int64  \n",
      " 20  Accident_Severity                            int64  \n",
      " 21  Number_of_Vehicles                           int64  \n",
      " 22  Number_of_Casualties                         int64  \n",
      " 23  Date                                         object \n",
      " 24  Day_of_Week                                  int64  \n",
      " 25  Time                                         object \n",
      " 26  Local_Authority_(District)                   int64  \n",
      " 27  Local_Authority_(Highway)                    object \n",
      " 28  1st_Road_Class                               int64  \n",
      " 29  1st_Road_Number                              int64  \n",
      " 30  Road_Type                                    int64  \n",
      " 31  Speed_limit                                  int64  \n",
      " 32  Junction_Detail                              int64  \n",
      " 33  Junction_Control                             int64  \n",
      " 34  2nd_Road_Class                               int64  \n",
      " 35  2nd_Road_Number                              int64  \n",
      " 36  Pedestrian_Crossing-Human_Control            int64  \n",
      " 37  Pedestrian_Crossing-Physical_Facilities      int64  \n",
      " 38  Light_Conditions                             int64  \n",
      " 39  Weather_Conditions                           int64  \n",
      " 40  Road_Surface_Conditions                      int64  \n",
      " 41  Special_Conditions_at_Site                   int64  \n",
      " 42  Carriageway_Hazards                          int64  \n",
      " 43  Urban_or_Rural_Area                          int64  \n",
      " 44  Did_Police_Officer_Attend_Scene_of_Accident  int64  \n",
      " 45  LSOA_of_Accident_Location                    object \n",
      " 46  Vehicle_Reference_y                          int64  \n",
      " 47  Vehicle_Type                                 int64  \n",
      " 48  Towing_and_Articulation                      int64  \n",
      " 49  Vehicle_Manoeuvre                            int64  \n",
      " 50  Vehicle_Location-Restricted_Lane             int64  \n",
      " 51  Junction_Location                            int64  \n",
      " 52  Skidding_and_Overturning                     int64  \n",
      " 53  Hit_Object_in_Carriageway                    int64  \n",
      " 54  Vehicle_Leaving_Carriageway                  int64  \n",
      " 55  Hit_Object_off_Carriageway                   int64  \n",
      " 56  1st_Point_of_Impact                          int64  \n",
      " 57  Was_Vehicle_Left_Hand_Drive?                 int64  \n",
      " 58  Journey_Purpose_of_Driver                    int64  \n",
      " 59  Sex_of_Driver                                int64  \n",
      " 60  Age_of_Driver                                int64  \n",
      " 61  Age_Band_of_Driver                           int64  \n",
      " 62  Engine_Capacity_(CC)                         int64  \n",
      " 63  Propulsion_Code                              int64  \n",
      " 64  Age_of_Vehicle                               int64  \n",
      " 65  Driver_IMD_Decile                            int64  \n",
      " 66  Driver_Home_Area_Type                        int64  \n",
      "dtypes: float64(4), int64(58), object(5)\n",
      "memory usage: 2.2+ GB\n"
     ]
    }
   ],
   "source": [
    "df.info()"
   ]
  },
  {
   "cell_type": "code",
   "execution_count": 11,
   "metadata": {
    "_uuid": "2c4c465e1c003a283a10166a635f8988ed9a67d7"
   },
   "outputs": [
    {
     "data": {
      "text/html": [
       "<div>\n",
       "<style scoped>\n",
       "    .dataframe tbody tr th:only-of-type {\n",
       "        vertical-align: middle;\n",
       "    }\n",
       "\n",
       "    .dataframe tbody tr th {\n",
       "        vertical-align: top;\n",
       "    }\n",
       "\n",
       "    .dataframe thead th {\n",
       "        text-align: right;\n",
       "    }\n",
       "</style>\n",
       "<table border=\"1\" class=\"dataframe\">\n",
       "  <thead>\n",
       "    <tr style=\"text-align: right;\">\n",
       "      <th></th>\n",
       "      <th>Accident_Index</th>\n",
       "      <th>Vehicle_Reference_x</th>\n",
       "      <th>Casualty_Reference</th>\n",
       "      <th>Casualty_Class</th>\n",
       "      <th>Sex_of_Casualty</th>\n",
       "      <th>Age_of_Casualty</th>\n",
       "      <th>Age_Band_of_Casualty</th>\n",
       "      <th>Casualty_Severity</th>\n",
       "      <th>Pedestrian_Location</th>\n",
       "      <th>Pedestrian_Movement</th>\n",
       "      <th>...</th>\n",
       "      <th>Was_Vehicle_Left_Hand_Drive?</th>\n",
       "      <th>Journey_Purpose_of_Driver</th>\n",
       "      <th>Sex_of_Driver</th>\n",
       "      <th>Age_of_Driver</th>\n",
       "      <th>Age_Band_of_Driver</th>\n",
       "      <th>Engine_Capacity_(CC)</th>\n",
       "      <th>Propulsion_Code</th>\n",
       "      <th>Age_of_Vehicle</th>\n",
       "      <th>Driver_IMD_Decile</th>\n",
       "      <th>Driver_Home_Area_Type</th>\n",
       "    </tr>\n",
       "  </thead>\n",
       "  <tbody>\n",
       "    <tr>\n",
       "      <th>0</th>\n",
       "      <td>200501BS00001</td>\n",
       "      <td>1</td>\n",
       "      <td>1</td>\n",
       "      <td>3</td>\n",
       "      <td>1</td>\n",
       "      <td>37</td>\n",
       "      <td>7</td>\n",
       "      <td>2</td>\n",
       "      <td>1</td>\n",
       "      <td>1</td>\n",
       "      <td>...</td>\n",
       "      <td>1</td>\n",
       "      <td>15</td>\n",
       "      <td>2</td>\n",
       "      <td>74</td>\n",
       "      <td>10</td>\n",
       "      <td>-1</td>\n",
       "      <td>-1</td>\n",
       "      <td>-1</td>\n",
       "      <td>7</td>\n",
       "      <td>1</td>\n",
       "    </tr>\n",
       "    <tr>\n",
       "      <th>1</th>\n",
       "      <td>200501BS00002</td>\n",
       "      <td>1</td>\n",
       "      <td>1</td>\n",
       "      <td>2</td>\n",
       "      <td>1</td>\n",
       "      <td>37</td>\n",
       "      <td>7</td>\n",
       "      <td>3</td>\n",
       "      <td>0</td>\n",
       "      <td>0</td>\n",
       "      <td>...</td>\n",
       "      <td>1</td>\n",
       "      <td>1</td>\n",
       "      <td>1</td>\n",
       "      <td>42</td>\n",
       "      <td>7</td>\n",
       "      <td>8268</td>\n",
       "      <td>2</td>\n",
       "      <td>3</td>\n",
       "      <td>-1</td>\n",
       "      <td>-1</td>\n",
       "    </tr>\n",
       "    <tr>\n",
       "      <th>2</th>\n",
       "      <td>200501BS00003</td>\n",
       "      <td>2</td>\n",
       "      <td>1</td>\n",
       "      <td>1</td>\n",
       "      <td>1</td>\n",
       "      <td>62</td>\n",
       "      <td>9</td>\n",
       "      <td>3</td>\n",
       "      <td>0</td>\n",
       "      <td>0</td>\n",
       "      <td>...</td>\n",
       "      <td>1</td>\n",
       "      <td>1</td>\n",
       "      <td>1</td>\n",
       "      <td>35</td>\n",
       "      <td>6</td>\n",
       "      <td>8300</td>\n",
       "      <td>2</td>\n",
       "      <td>5</td>\n",
       "      <td>2</td>\n",
       "      <td>1</td>\n",
       "    </tr>\n",
       "    <tr>\n",
       "      <th>3</th>\n",
       "      <td>200501BS00003</td>\n",
       "      <td>2</td>\n",
       "      <td>1</td>\n",
       "      <td>1</td>\n",
       "      <td>1</td>\n",
       "      <td>62</td>\n",
       "      <td>9</td>\n",
       "      <td>3</td>\n",
       "      <td>0</td>\n",
       "      <td>0</td>\n",
       "      <td>...</td>\n",
       "      <td>1</td>\n",
       "      <td>15</td>\n",
       "      <td>1</td>\n",
       "      <td>62</td>\n",
       "      <td>9</td>\n",
       "      <td>1762</td>\n",
       "      <td>1</td>\n",
       "      <td>6</td>\n",
       "      <td>1</td>\n",
       "      <td>1</td>\n",
       "    </tr>\n",
       "    <tr>\n",
       "      <th>4</th>\n",
       "      <td>200501BS00004</td>\n",
       "      <td>1</td>\n",
       "      <td>1</td>\n",
       "      <td>3</td>\n",
       "      <td>1</td>\n",
       "      <td>30</td>\n",
       "      <td>6</td>\n",
       "      <td>3</td>\n",
       "      <td>5</td>\n",
       "      <td>2</td>\n",
       "      <td>...</td>\n",
       "      <td>1</td>\n",
       "      <td>15</td>\n",
       "      <td>2</td>\n",
       "      <td>49</td>\n",
       "      <td>8</td>\n",
       "      <td>1769</td>\n",
       "      <td>1</td>\n",
       "      <td>4</td>\n",
       "      <td>2</td>\n",
       "      <td>1</td>\n",
       "    </tr>\n",
       "  </tbody>\n",
       "</table>\n",
       "<p>5 rows × 67 columns</p>\n",
       "</div>"
      ],
      "text/plain": [
       "  Accident_Index  Vehicle_Reference_x  Casualty_Reference  Casualty_Class  \\\n",
       "0  200501BS00001                    1                   1               3   \n",
       "1  200501BS00002                    1                   1               2   \n",
       "2  200501BS00003                    2                   1               1   \n",
       "3  200501BS00003                    2                   1               1   \n",
       "4  200501BS00004                    1                   1               3   \n",
       "\n",
       "   Sex_of_Casualty  Age_of_Casualty  Age_Band_of_Casualty  Casualty_Severity  \\\n",
       "0                1               37                     7                  2   \n",
       "1                1               37                     7                  3   \n",
       "2                1               62                     9                  3   \n",
       "3                1               62                     9                  3   \n",
       "4                1               30                     6                  3   \n",
       "\n",
       "   Pedestrian_Location  Pedestrian_Movement  ...  \\\n",
       "0                    1                    1  ...   \n",
       "1                    0                    0  ...   \n",
       "2                    0                    0  ...   \n",
       "3                    0                    0  ...   \n",
       "4                    5                    2  ...   \n",
       "\n",
       "   Was_Vehicle_Left_Hand_Drive?  Journey_Purpose_of_Driver  Sex_of_Driver  \\\n",
       "0                             1                         15              2   \n",
       "1                             1                          1              1   \n",
       "2                             1                          1              1   \n",
       "3                             1                         15              1   \n",
       "4                             1                         15              2   \n",
       "\n",
       "   Age_of_Driver  Age_Band_of_Driver  Engine_Capacity_(CC)  Propulsion_Code  \\\n",
       "0             74                  10                    -1               -1   \n",
       "1             42                   7                  8268                2   \n",
       "2             35                   6                  8300                2   \n",
       "3             62                   9                  1762                1   \n",
       "4             49                   8                  1769                1   \n",
       "\n",
       "   Age_of_Vehicle  Driver_IMD_Decile  Driver_Home_Area_Type  \n",
       "0              -1                  7                      1  \n",
       "1               3                 -1                     -1  \n",
       "2               5                  2                      1  \n",
       "3               6                  1                      1  \n",
       "4               4                  2                      1  \n",
       "\n",
       "[5 rows x 67 columns]"
      ]
     },
     "execution_count": 11,
     "metadata": {},
     "output_type": "execute_result"
    }
   ],
   "source": [
    "df.head()"
   ]
  },
  {
   "cell_type": "code",
   "execution_count": 12,
   "metadata": {
    "_uuid": "77ed5f9362e30bb84d72a94b1a289381f110b8af"
   },
   "outputs": [
    {
     "data": {
      "text/plain": [
       "Accident_Index           0\n",
       "Vehicle_Reference_x      0\n",
       "Casualty_Reference       0\n",
       "Casualty_Class           0\n",
       "Sex_of_Casualty          0\n",
       "                        ..\n",
       "Engine_Capacity_(CC)     0\n",
       "Propulsion_Code          0\n",
       "Age_of_Vehicle           0\n",
       "Driver_IMD_Decile        0\n",
       "Driver_Home_Area_Type    0\n",
       "Length: 67, dtype: int64"
      ]
     },
     "execution_count": 12,
     "metadata": {},
     "output_type": "execute_result"
    }
   ],
   "source": [
    "df.isnull().sum()"
   ]
  },
  {
   "cell_type": "code",
   "execution_count": 13,
   "metadata": {
    "_uuid": "46b77ecedf8551dafb009654a899c1a5f381f5dd"
   },
   "outputs": [],
   "source": [
    "df.drop('LSOA_of_Accident_Location',axis=1,inplace=True)\n",
    "df.dropna(subset=['Location_Easting_OSGR','Location_Northing_OSGR', 'Longitude', 'Latitude'],axis=0,inplace=True)\n",
    "df.dropna(subset=['Time'],axis=0,inplace=True)"
   ]
  },
  {
   "cell_type": "code",
   "execution_count": 14,
   "metadata": {
    "_uuid": "f3d9853037aebfff7cbbdce8a99c03411ab3e740"
   },
   "outputs": [
    {
     "data": {
      "text/plain": [
       "False"
      ]
     },
     "execution_count": 14,
     "metadata": {},
     "output_type": "execute_result"
    }
   ],
   "source": [
    "df.isnull().values.any()"
   ]
  },
  {
   "cell_type": "markdown",
   "metadata": {},
   "source": [
    "## Exploring the dataset through the principal objective questions"
   ]
  },
  {
   "cell_type": "markdown",
   "metadata": {},
   "source": [
    "***Q1. What fraction of accidents occur in urban, rural and other (NA) areas?***\n",
    "\n",
    "***Data Visualization done on individual datasets***"
   ]
  },
  {
   "cell_type": "code",
   "execution_count": 15,
   "metadata": {},
   "outputs": [
    {
     "name": "stdout",
     "output_type": "stream",
     "text": [
      "Percentage of accidents occur in urban areas is 64%\n",
      "Percentage of accidents occur in rural areas is 36%\n",
      "Percentage of accidents occur in other areas is 0%\n"
     ]
    },
    {
     "data": {
      "image/png": "[encoded data removed]",
      "text/plain": [
       "<Figure size 432x288 with 1 Axes>"
      ]
     },
     "metadata": {
      "needs_background": "light"
     },
     "output_type": "display_data"
    }
   ],
   "source": [
    "urban_acci =len(accident_df[accident_df['Urban_or_Rural_Area']==1])\n",
    "rural_acci =len(accident_df[accident_df['Urban_or_Rural_Area']==2])\n",
    "na_acci =len(accident_df[accident_df['Urban_or_Rural_Area']==3])\n",
    "total_acci = urban_acci + rural_acci + na_acci\n",
    "urban_pct = urban_acci / total_acci * 100\n",
    "rural_pct = rural_acci / total_acci *100\n",
    "na_pct = na_acci / total_acci * 100\n",
    "print(\"Percentage of accidents occur in urban areas is {0:.0f}%\".format(urban_pct))\n",
    "print(\"Percentage of accidents occur in rural areas is {0:.0f}%\".format(rural_pct))\n",
    "print(\"Percentage of accidents occur in other areas is {0:.0f}%\".format(na_pct))\n",
    "x = ['Urban', 'Rural', 'Other']\n",
    "y = [urban_pct, rural_pct,na_pct]\n",
    "x_pos =list(range(len(x)))\n",
    "plt.bar(x_pos, y)\n",
    "plt.ylabel('Percentage of accidents')\n",
    "plt.xticks(x_pos,x)\n",
    "plt.title(\"Percentage of accidents occured by area\")\n",
    "plt.show()"
   ]
  },
  {
   "cell_type": "markdown",
   "metadata": {},
   "source": [
    "***Q2. When is the most dangerous time to drive?***\n",
    "\n",
    "***Data Visualization done on individual datasets***"
   ]
  },
  {
   "cell_type": "code",
   "execution_count": 16,
   "metadata": {},
   "outputs": [
    {
     "data": {
      "image/png": "[encoded data removed]",
      "text/plain": [
       "<Figure size 1008x576 with 3 Axes>"
      ]
     },
     "metadata": {
      "needs_background": "light"
     },
     "output_type": "display_data"
    },
    {
     "name": "stdout",
     "output_type": "stream",
     "text": [
      "The most dangerous hour to drive, when most fatal accidents happend in all accidents,is 4 o'clock\n"
     ]
    }
   ],
   "source": [
    "accident_df['Hour'] = accident_df['Time'].map(lambda x: str(x).split(':')[0])\n",
    "accident_df['Hour'] = accident_df['Hour'].apply(pd.to_numeric, errors='coerce')\n",
    "hour = []\n",
    "num_of_fatal_acci = []\n",
    "num_of_acci = []\n",
    "for i in range(24):\n",
    "    hour.append(i)\n",
    "    num_of_fatal_acci_hour = len(accident_df[(accident_df['Accident_Severity'] == 1) & (accident_df['Hour'] == i)])\n",
    "    num_of_acci_hour = len(accident_df[accident_df['Hour'] == i])\n",
    "    num_of_fatal_acci.append(num_of_fatal_acci_hour)\n",
    "    num_of_acci.append(num_of_acci_hour)\n",
    "    normalized_num_of_fatal_acci = list(np.array(num_of_fatal_acci) / np.array(num_of_acci) *100)\n",
    "fig = plt.figure(figsize=(14,8))\n",
    "ax1 = fig.add_subplot(221)\n",
    "ax1.plot(hour, num_of_fatal_acci)\n",
    "ax1.set_ylabel('Number of fatal accidents')\n",
    "ax1.set_xlabel('Hour')\n",
    "ax1.grid(True)\n",
    "ax2 = fig.add_subplot(222)\n",
    "ax2.plot(hour, num_of_acci)\n",
    "ax2.set_ylabel('Number of all accidents')\n",
    "ax2.set_xlabel('Hour')\n",
    "ax2.grid(True)\n",
    "ax3 = fig.add_subplot(223)\n",
    "ax3.plot(hour, normalized_num_of_fatal_acci)\n",
    "ax3.set_ylabel('Percentage of fatal accidents in all accidents')\n",
    "ax3.set_xlabel('Hour')\n",
    "ax3.grid(True)\n",
    "plt.show()\n",
    "print(\"The most dangerous hour to drive, when most fatal accidents happend in all accidents,is {} o'clock\".format(normalized_num_of_fatal_acci.index(max(normalized_num_of_fatal_acci))))"
   ]
  },
  {
   "cell_type": "markdown",
   "metadata": {},
   "source": [
    "***Q3. What is the trend in the number of accidents that occur each year?***\n",
    "\n",
    "***Data Visualization done on individual datasets***"
   ]
  },
  {
   "cell_type": "code",
   "execution_count": 17,
   "metadata": {},
   "outputs": [
    {
     "data": {
      "image/png": "[encoded data removed]",
      "text/plain": [
       "<Figure size 432x288 with 1 Axes>"
      ]
     },
     "metadata": {
      "needs_background": "light"
     },
     "output_type": "display_data"
    }
   ],
   "source": [
    "accident_df['Year'] = accident_df['Accident_Index'].map(lambda x: str(x)[:4])\n",
    "accident_df['Year'] = accident_df['Year'].apply(pd.to_numeric, errors='coerce')\n",
    "year = []\n",
    "num_of_acci_year = []\n",
    "for i in range(2005, 2015):\n",
    "    year.append(i)\n",
    "    num_of_acci_year.append(len(accident_df[accident_df['Year'] == i]))\n",
    "plt.plot(year, num_of_acci_year)\n",
    "plt.xlabel('Year')\n",
    "plt.ylabel('Number of accidents')\n",
    "plt.title('Correlation between number of accidents and year')\n",
    "plt.grid(True)\n",
    "plt.show()"
   ]
  },
  {
   "cell_type": "markdown",
   "metadata": {},
   "source": [
    "***Q4. What fraction of accidents caused minor injuires, major injuries and deaths?***\n",
    "\n",
    "***Data Visualization done on individual datasets***"
   ]
  },
  {
   "cell_type": "code",
   "execution_count": 18,
   "metadata": {},
   "outputs": [
    {
     "name": "stdout",
     "output_type": "stream",
     "text": [
      "Percentage of Deaths is 1%\n",
      "Percentage of Major Injuries is 11%\n",
      "Percentage of Minor Injuires is 88%\n"
     ]
    },
    {
     "data": {
      "image/png": "[encoded data removed]",
      "text/plain": [
       "<Figure size 432x288 with 1 Axes>"
      ]
     },
     "metadata": {},
     "output_type": "display_data"
    }
   ],
   "source": [
    "Severity1 =len(casual_df[casual_df['Casualty_Severity']==1])\n",
    "Severity2 =len(casual_df[casual_df['Casualty_Severity']==2])\n",
    "Severity3 =len(casual_df[casual_df['Casualty_Severity']==3])\n",
    "tot=Severity1+Severity2+Severity3;\n",
    "s1=(Severity1/tot)*100;\n",
    "s2=(Severity2/tot)*100;\n",
    "s3=(Severity3/tot)*100;\n",
    "print(\"Percentage of Deaths is {0:.0f}%\".format(s1))\n",
    "print(\"Percentage of Major Injuries is {0:.0f}%\".format(s2))\n",
    "print(\"Percentage of Minor Injuires is {0:.0f}%\".format(s3))\n",
    "labels = 'Deaths','MajorInjuries','Minor Injuries'\n",
    "sizes = [s1, s2, s3]\n",
    "colors = ['lightskyblue', 'yellowgreen', 'lightcoral']\n",
    "explode = (0.1, 0, 0)\n",
    "# Plot\n",
    "plt.pie(sizes, explode=explode, labels=labels, colors=colors, autopct='%1.1f%%', shadow=True, startangle=140)\n",
    "plt.axis('equal')\n",
    "plt.show()"
   ]
  },
  {
   "cell_type": "markdown",
   "metadata": {},
   "source": [
    "***Q5. How fast do the number of car accidents drop off with age?***\n",
    "\n",
    "***Data Visualization done on individual datasets***"
   ]
  },
  {
   "cell_type": "code",
   "execution_count": 19,
   "metadata": {},
   "outputs": [
    {
     "data": {
      "image/png": "[encoded data removed]",
      "text/plain": [
       "<Figure size 432x288 with 1 Axes>"
      ]
     },
     "metadata": {
      "needs_background": "light"
     },
     "output_type": "display_data"
    }
   ],
   "source": [
    "age_acci = vehicle_df[['Accident_Index', 'Age_of_Driver', 'Vehicle_Type']]\n",
    "age = []\n",
    "num_of_acci = []\n",
    "for i in range(17, max(age_acci['Age_of_Driver'])+1):\n",
    "    age.append(i)\n",
    "    num_of_acci.append(len(age_acci[(age_acci['Age_of_Driver']==i)&(age_acci['Vehicle_Type'] == 9 )]))\n",
    "plt.plot(age, num_of_acci, label = 'Data', marker = 'o')\n",
    "plt.xlabel('Age')\n",
    "plt.ylabel('Number of car accidents')\n",
    "plt.title('Correlation between driver age and number of car accidents')\n",
    "plt.grid(True)\n",
    "plt.show()"
   ]
  },
  {
   "cell_type": "markdown",
   "metadata": {},
   "source": [
    "***Q6. What is the ratio of men and women who get injured in accidents?***\n",
    "\n",
    "***Data Visualization done on individual datasets***"
   ]
  },
  {
   "cell_type": "code",
   "execution_count": 20,
   "metadata": {},
   "outputs": [
    {
     "data": {
      "image/png": "[encoded data removed]",
      "text/plain": [
       "<Figure size 432x288 with 1 Axes>"
      ]
     },
     "metadata": {
      "needs_background": "light"
     },
     "output_type": "display_data"
    }
   ],
   "source": [
    "men =len(casual_df[casual_df['Sex_of_Casualty']==1])\n",
    "women =len(casual_df[casual_df['Sex_of_Casualty']==2])\n",
    "x = ['Men', 'Women']\n",
    "y = [men,women]\n",
    "x_pos =list(range(len(x)))\n",
    "plt.bar(x_pos, y,color ='maroon')\n",
    "plt.ylabel('Casulaities')\n",
    "plt.xticks(x_pos,x)\n",
    "plt.title(\"Casualities occured by gender\")\n",
    "plt.show()"
   ]
  },
  {
   "cell_type": "markdown",
   "metadata": {},
   "source": [
    "***Data Visualization done on the merged dataframe from this point onwards***"
   ]
  },
  {
   "cell_type": "markdown",
   "metadata": {
    "_uuid": "6de6540a7f98ef4ef018cf7fa3127c1521e0a0c7"
   },
   "source": [
    "***Q7. What is the relation between hour, day, week, month with number of fatal accident?***"
   ]
  },
  {
   "cell_type": "code",
   "execution_count": 21,
   "metadata": {
    "_uuid": "5a365ba892961d0f8ac940252639a62e1bd641f4"
   },
   "outputs": [],
   "source": [
    "#creating function to add month column to the dataset\n",
    "def month(string):\n",
    "    return int(string[3:5])\n",
    "df['Month']=df['Date'].apply(lambda x: month(x))"
   ]
  },
  {
   "cell_type": "code",
   "execution_count": 22,
   "metadata": {
    "_uuid": "b3867dc35c2b7ee10f0f45f448ea20add312f6f2"
   },
   "outputs": [],
   "source": [
    "#creating function to add hour column to the dataset\n",
    "def hour(string):\n",
    "    s=string[0:2]\n",
    "    return int(s)\n",
    "df['Hour']=df['Time'].apply(lambda x: hour(x))"
   ]
  },
  {
   "cell_type": "code",
   "execution_count": 23,
   "metadata": {
    "_uuid": "32781ba178b6fa1b0bebaf53c816314522c69609"
   },
   "outputs": [],
   "source": [
    "#getting a dataframe suitable for Q6\n",
    "q7df=pd.DataFrame(data=df,columns=['Hour','Day_of_Week','Month','Accident_Severity'])"
   ]
  },
  {
   "cell_type": "code",
   "execution_count": 24,
   "metadata": {
    "_uuid": "55024d53d2a39d26e9724670fcd03b270cf31596"
   },
   "outputs": [
    {
     "data": {
      "text/html": [
       "<div>\n",
       "<style scoped>\n",
       "    .dataframe tbody tr th:only-of-type {\n",
       "        vertical-align: middle;\n",
       "    }\n",
       "\n",
       "    .dataframe tbody tr th {\n",
       "        vertical-align: top;\n",
       "    }\n",
       "\n",
       "    .dataframe thead th {\n",
       "        text-align: right;\n",
       "    }\n",
       "</style>\n",
       "<table border=\"1\" class=\"dataframe\">\n",
       "  <thead>\n",
       "    <tr style=\"text-align: right;\">\n",
       "      <th></th>\n",
       "      <th>Hour</th>\n",
       "      <th>Day_of_Week</th>\n",
       "      <th>Month</th>\n",
       "      <th>Accident_Severity</th>\n",
       "    </tr>\n",
       "  </thead>\n",
       "  <tbody>\n",
       "    <tr>\n",
       "      <th>0</th>\n",
       "      <td>17</td>\n",
       "      <td>3</td>\n",
       "      <td>1</td>\n",
       "      <td>2</td>\n",
       "    </tr>\n",
       "    <tr>\n",
       "      <th>1</th>\n",
       "      <td>17</td>\n",
       "      <td>4</td>\n",
       "      <td>1</td>\n",
       "      <td>3</td>\n",
       "    </tr>\n",
       "    <tr>\n",
       "      <th>2</th>\n",
       "      <td>0</td>\n",
       "      <td>5</td>\n",
       "      <td>1</td>\n",
       "      <td>3</td>\n",
       "    </tr>\n",
       "    <tr>\n",
       "      <th>3</th>\n",
       "      <td>0</td>\n",
       "      <td>5</td>\n",
       "      <td>1</td>\n",
       "      <td>3</td>\n",
       "    </tr>\n",
       "    <tr>\n",
       "      <th>4</th>\n",
       "      <td>10</td>\n",
       "      <td>6</td>\n",
       "      <td>1</td>\n",
       "      <td>3</td>\n",
       "    </tr>\n",
       "  </tbody>\n",
       "</table>\n",
       "</div>"
      ],
      "text/plain": [
       "   Hour  Day_of_Week  Month  Accident_Severity\n",
       "0    17            3      1                  2\n",
       "1    17            4      1                  3\n",
       "2     0            5      1                  3\n",
       "3     0            5      1                  3\n",
       "4    10            6      1                  3"
      ]
     },
     "execution_count": 24,
     "metadata": {},
     "output_type": "execute_result"
    }
   ],
   "source": [
    "q7df.head()"
   ]
  },
  {
   "cell_type": "code",
   "execution_count": 25,
   "metadata": {
    "_uuid": "d9153a34c343065477127d82733726fcdc552a6f"
   },
   "outputs": [
    {
     "data": {
      "text/html": [
       "<div>\n",
       "<style scoped>\n",
       "    .dataframe tbody tr th:only-of-type {\n",
       "        vertical-align: middle;\n",
       "    }\n",
       "\n",
       "    .dataframe tbody tr th {\n",
       "        vertical-align: top;\n",
       "    }\n",
       "\n",
       "    .dataframe thead th {\n",
       "        text-align: right;\n",
       "    }\n",
       "</style>\n",
       "<table border=\"1\" class=\"dataframe\">\n",
       "  <thead>\n",
       "    <tr style=\"text-align: right;\">\n",
       "      <th></th>\n",
       "      <th>Hour</th>\n",
       "      <th>Day_of_Week</th>\n",
       "      <th>Month</th>\n",
       "      <th>Accident_Severity</th>\n",
       "    </tr>\n",
       "  </thead>\n",
       "  <tbody>\n",
       "    <tr>\n",
       "      <th>1646</th>\n",
       "      <td>18</td>\n",
       "      <td>4</td>\n",
       "      <td>5</td>\n",
       "      <td>1</td>\n",
       "    </tr>\n",
       "    <tr>\n",
       "      <th>1647</th>\n",
       "      <td>18</td>\n",
       "      <td>4</td>\n",
       "      <td>5</td>\n",
       "      <td>1</td>\n",
       "    </tr>\n",
       "    <tr>\n",
       "      <th>1648</th>\n",
       "      <td>18</td>\n",
       "      <td>4</td>\n",
       "      <td>5</td>\n",
       "      <td>1</td>\n",
       "    </tr>\n",
       "    <tr>\n",
       "      <th>1649</th>\n",
       "      <td>18</td>\n",
       "      <td>4</td>\n",
       "      <td>5</td>\n",
       "      <td>1</td>\n",
       "    </tr>\n",
       "    <tr>\n",
       "      <th>34637</th>\n",
       "      <td>9</td>\n",
       "      <td>4</td>\n",
       "      <td>11</td>\n",
       "      <td>1</td>\n",
       "    </tr>\n",
       "  </tbody>\n",
       "</table>\n",
       "</div>"
      ],
      "text/plain": [
       "       Hour  Day_of_Week  Month  Accident_Severity\n",
       "1646     18            4      5                  1\n",
       "1647     18            4      5                  1\n",
       "1648     18            4      5                  1\n",
       "1649     18            4      5                  1\n",
       "34637     9            4     11                  1"
      ]
     },
     "execution_count": 25,
     "metadata": {},
     "output_type": "execute_result"
    }
   ],
   "source": [
    "q7df=q7df[q7df.Accident_Severity ==1]\n",
    "q7df.head()"
   ]
  },
  {
   "cell_type": "code",
   "execution_count": 26,
   "metadata": {
    "_uuid": "47e76db288b7b7f5c1fe55979d93d47883504ff7"
   },
   "outputs": [
    {
     "data": {
      "text/plain": [
       "<AxesSubplot:>"
      ]
     },
     "execution_count": 26,
     "metadata": {},
     "output_type": "execute_result"
    },
    {
     "data": {
      "image/png": "[encoded data removed]",
      "text/plain": [
       "<Figure size 432x288 with 2 Axes>"
      ]
     },
     "metadata": {
      "needs_background": "light"
     },
     "output_type": "display_data"
    }
   ],
   "source": [
    "sns.heatmap(q7df.corr())"
   ]
  },
  {
   "cell_type": "markdown",
   "metadata": {
    "_uuid": "48f0a6c6e12d2d367be27275c2dcffbf016849d7"
   },
   "source": [
    "**Q8: Does driver age has an effect on the number of accident?**"
   ]
  },
  {
   "cell_type": "code",
   "execution_count": 27,
   "metadata": {
    "_uuid": "5a636668b24ca0f7760a4d8fb8ecdf73f9570e5d"
   },
   "outputs": [],
   "source": [
    "q8df=  pd.DataFrame(data=df, columns=['Journey_Purpose_of_Driver', 'Sex_of_Driver', 'Age_of_Driver','Age_Band_of_Driver','Driver_Home_Area_Type'])"
   ]
  },
  {
   "cell_type": "code",
   "execution_count": 28,
   "metadata": {
    "_uuid": "f961cfe51d57ecf8bd7edf1f25e938efa9f30cac"
   },
   "outputs": [
    {
     "data": {
      "text/html": [
       "<div>\n",
       "<style scoped>\n",
       "    .dataframe tbody tr th:only-of-type {\n",
       "        vertical-align: middle;\n",
       "    }\n",
       "\n",
       "    .dataframe tbody tr th {\n",
       "        vertical-align: top;\n",
       "    }\n",
       "\n",
       "    .dataframe thead th {\n",
       "        text-align: right;\n",
       "    }\n",
       "</style>\n",
       "<table border=\"1\" class=\"dataframe\">\n",
       "  <thead>\n",
       "    <tr style=\"text-align: right;\">\n",
       "      <th></th>\n",
       "      <th>Journey_Purpose_of_Driver</th>\n",
       "      <th>Sex_of_Driver</th>\n",
       "      <th>Age_of_Driver</th>\n",
       "      <th>Age_Band_of_Driver</th>\n",
       "      <th>Driver_Home_Area_Type</th>\n",
       "    </tr>\n",
       "  </thead>\n",
       "  <tbody>\n",
       "    <tr>\n",
       "      <th>0</th>\n",
       "      <td>15</td>\n",
       "      <td>2</td>\n",
       "      <td>74</td>\n",
       "      <td>10</td>\n",
       "      <td>1</td>\n",
       "    </tr>\n",
       "    <tr>\n",
       "      <th>1</th>\n",
       "      <td>1</td>\n",
       "      <td>1</td>\n",
       "      <td>42</td>\n",
       "      <td>7</td>\n",
       "      <td>-1</td>\n",
       "    </tr>\n",
       "    <tr>\n",
       "      <th>2</th>\n",
       "      <td>1</td>\n",
       "      <td>1</td>\n",
       "      <td>35</td>\n",
       "      <td>6</td>\n",
       "      <td>1</td>\n",
       "    </tr>\n",
       "    <tr>\n",
       "      <th>3</th>\n",
       "      <td>15</td>\n",
       "      <td>1</td>\n",
       "      <td>62</td>\n",
       "      <td>9</td>\n",
       "      <td>1</td>\n",
       "    </tr>\n",
       "    <tr>\n",
       "      <th>4</th>\n",
       "      <td>15</td>\n",
       "      <td>2</td>\n",
       "      <td>49</td>\n",
       "      <td>8</td>\n",
       "      <td>1</td>\n",
       "    </tr>\n",
       "  </tbody>\n",
       "</table>\n",
       "</div>"
      ],
      "text/plain": [
       "   Journey_Purpose_of_Driver  Sex_of_Driver  Age_of_Driver  \\\n",
       "0                         15              2             74   \n",
       "1                          1              1             42   \n",
       "2                          1              1             35   \n",
       "3                         15              1             62   \n",
       "4                         15              2             49   \n",
       "\n",
       "   Age_Band_of_Driver  Driver_Home_Area_Type  \n",
       "0                  10                      1  \n",
       "1                   7                     -1  \n",
       "2                   6                      1  \n",
       "3                   9                      1  \n",
       "4                   8                      1  "
      ]
     },
     "execution_count": 28,
     "metadata": {},
     "output_type": "execute_result"
    }
   ],
   "source": [
    "q8df=q8df[q8df.Sex_of_Driver !=-1]\n",
    "q8df.head()"
   ]
  },
  {
   "cell_type": "code",
   "execution_count": 29,
   "metadata": {
    "_uuid": "4379eac7b9ed27a4c60cab335ad02ea82e8dcb02"
   },
   "outputs": [
    {
     "data": {
      "text/html": [
       "<div>\n",
       "<style scoped>\n",
       "    .dataframe tbody tr th:only-of-type {\n",
       "        vertical-align: middle;\n",
       "    }\n",
       "\n",
       "    .dataframe tbody tr th {\n",
       "        vertical-align: top;\n",
       "    }\n",
       "\n",
       "    .dataframe thead th {\n",
       "        text-align: right;\n",
       "    }\n",
       "</style>\n",
       "<table border=\"1\" class=\"dataframe\">\n",
       "  <thead>\n",
       "    <tr style=\"text-align: right;\">\n",
       "      <th></th>\n",
       "      <th>Journey_Purpose_of_Driver</th>\n",
       "      <th>Sex_of_Driver</th>\n",
       "      <th>Age_of_Driver</th>\n",
       "      <th>Age_Band_of_Driver</th>\n",
       "      <th>Driver_Home_Area_Type</th>\n",
       "    </tr>\n",
       "  </thead>\n",
       "  <tbody>\n",
       "    <tr>\n",
       "      <th>0</th>\n",
       "      <td>Not known/Other</td>\n",
       "      <td>2</td>\n",
       "      <td>74</td>\n",
       "      <td>66 - 75</td>\n",
       "      <td>Urban Area</td>\n",
       "    </tr>\n",
       "    <tr>\n",
       "      <th>1</th>\n",
       "      <td>Journey as part of work</td>\n",
       "      <td>1</td>\n",
       "      <td>42</td>\n",
       "      <td>36 - 45</td>\n",
       "      <td>NaN</td>\n",
       "    </tr>\n",
       "    <tr>\n",
       "      <th>2</th>\n",
       "      <td>Journey as part of work</td>\n",
       "      <td>1</td>\n",
       "      <td>35</td>\n",
       "      <td>26 - 35</td>\n",
       "      <td>Urban Area</td>\n",
       "    </tr>\n",
       "    <tr>\n",
       "      <th>3</th>\n",
       "      <td>Not known/Other</td>\n",
       "      <td>1</td>\n",
       "      <td>62</td>\n",
       "      <td>56 - 65</td>\n",
       "      <td>Urban Area</td>\n",
       "    </tr>\n",
       "    <tr>\n",
       "      <th>4</th>\n",
       "      <td>Not known/Other</td>\n",
       "      <td>2</td>\n",
       "      <td>49</td>\n",
       "      <td>46 - 55</td>\n",
       "      <td>Urban Area</td>\n",
       "    </tr>\n",
       "  </tbody>\n",
       "</table>\n",
       "</div>"
      ],
      "text/plain": [
       "  Journey_Purpose_of_Driver  Sex_of_Driver  Age_of_Driver Age_Band_of_Driver  \\\n",
       "0           Not known/Other              2             74            66 - 75   \n",
       "1   Journey as part of work              1             42            36 - 45   \n",
       "2   Journey as part of work              1             35            26 - 35   \n",
       "3           Not known/Other              1             62            56 - 65   \n",
       "4           Not known/Other              2             49            46 - 55   \n",
       "\n",
       "  Driver_Home_Area_Type  \n",
       "0            Urban Area  \n",
       "1                   NaN  \n",
       "2            Urban Area  \n",
       "3            Urban Area  \n",
       "4            Urban Area  "
      ]
     },
     "execution_count": 29,
     "metadata": {},
     "output_type": "execute_result"
    }
   ],
   "source": [
    "map_df={1:'Journey as part of work',2:'Commuting to/from work',3:'Taking pupil to/from school',4:'Pupil riding to/from school',5:'Other',6:'Not known',15:'Not known/Other'}\n",
    "map_df_age={1:'0 - 5',2:'6 - 10',3:'11 - 15',4:'16 - 20',5:'21 - 25',6:'26 - 35',7:'36 - 45',8:'46 - 55',9:'56 - 65',10:'66 - 75',11:'Over 75'}\n",
    "map_df_area={1:'Urban Area',2:'Small Town',3:'Rural'}\n",
    "q8df.Age_Band_of_Driver=q8df.Age_Band_of_Driver.map(map_df_age)\n",
    "q8df.Journey_Purpose_of_Driver=q8df.Journey_Purpose_of_Driver.map(map_df)\n",
    "q8df.Driver_Home_Area_Type=q8df.Driver_Home_Area_Type.map(map_df_area)\n",
    "q8df.head()"
   ]
  },
  {
   "cell_type": "code",
   "execution_count": 30,
   "metadata": {
    "_uuid": "60b29b60e85c71c0b559d6ae5ef21b4a5b95e1a6"
   },
   "outputs": [
    {
     "data": {
      "text/plain": [
       "<AxesSubplot:>"
      ]
     },
     "execution_count": 30,
     "metadata": {},
     "output_type": "execute_result"
    },
    {
     "data": {
      "image/png": "[encoded data removed]",
      "text/plain": [
       "<Figure size 432x288 with 2 Axes>"
      ]
     },
     "metadata": {
      "needs_background": "light"
     },
     "output_type": "display_data"
    }
   ],
   "source": [
    "sns.heatmap(q8df.corr())"
   ]
  },
  {
   "cell_type": "markdown",
   "metadata": {
    "_uuid": "df9e6f7c6e7e8056a0f0f49083517e5519956175"
   },
   "source": [
    "**It is seen that the Drivers who met with an accident were in the age range of 30-40 years.**\n",
    "* Usually, drivers who meet with an accident are males."
   ]
  },
  {
   "cell_type": "code",
   "execution_count": 31,
   "metadata": {
    "_uuid": "b330fb86eee1b7e070c741d8dcda07f9c1b45abe"
   },
   "outputs": [
    {
     "name": "stderr",
     "output_type": "stream",
     "text": [
      "C:\\Anaconda\\lib\\site-packages\\seaborn\\_decorators.py:36: FutureWarning: Pass the following variables as keyword args: x, y. From version 0.12, the only valid positional argument will be `data`, and passing other arguments without an explicit keyword will result in an error or misinterpretation.\n",
      "  warnings.warn(\n"
     ]
    },
    {
     "data": {
      "text/plain": [
       "Text(0.5, 1.0, 'Journey Purpose of Driver vs Age_of_Driver')"
      ]
     },
     "execution_count": 31,
     "metadata": {},
     "output_type": "execute_result"
    },
    {
     "data": {
      "image/png": "[encoded data removed]",
      "text/plain": [
       "<Figure size 1224x288 with 1 Axes>"
      ]
     },
     "metadata": {
      "needs_background": "light"
     },
     "output_type": "display_data"
    }
   ],
   "source": [
    "plt.figure(figsize=(17,4))\n",
    "sns.barplot('Journey_Purpose_of_Driver','Age_of_Driver',hue='Sex_of_Driver',data=q8df,ci=None, palette='Set2')\n",
    "plt.legend(bbox_to_anchor=(1,1))\n",
    "plt.title('Journey Purpose of Driver vs Age_of_Driver')"
   ]
  },
  {
   "cell_type": "code",
   "execution_count": 32,
   "metadata": {
    "_uuid": "726fa6fdf14b4c81bdd7364558463cb8513cb7e4"
   },
   "outputs": [
    {
     "name": "stderr",
     "output_type": "stream",
     "text": [
      "C:\\Anaconda\\lib\\site-packages\\seaborn\\_decorators.py:36: FutureWarning: Pass the following variables as keyword args: x, y. From version 0.12, the only valid positional argument will be `data`, and passing other arguments without an explicit keyword will result in an error or misinterpretation.\n",
      "  warnings.warn(\n"
     ]
    },
    {
     "data": {
      "text/plain": [
       "<AxesSubplot:xlabel='Driver_Home_Area_Type', ylabel='Age_of_Driver'>"
      ]
     },
     "execution_count": 32,
     "metadata": {},
     "output_type": "execute_result"
    },
    {
     "data": {
      "image/png": "[encoded data removed]",
      "text/plain": [
       "<Figure size 864x288 with 1 Axes>"
      ]
     },
     "metadata": {
      "needs_background": "light"
     },
     "output_type": "display_data"
    }
   ],
   "source": [
    "plt.figure(figsize=(12,4))\n",
    "sns.boxplot('Driver_Home_Area_Type','Age_of_Driver',data=q8df)"
   ]
  },
  {
   "cell_type": "markdown",
   "metadata": {
    "_uuid": "2ff3a891918dfe22e352e19fa984dbf526877d48"
   },
   "source": [
    "**Q9: How the weather impact the number or severity of an accident?**"
   ]
  },
  {
   "cell_type": "code",
   "execution_count": 33,
   "metadata": {
    "_uuid": "9aa2f7d8fb3520ae7862662b0e7ccceabb951efe"
   },
   "outputs": [
    {
     "data": {
      "text/html": [
       "<div>\n",
       "<style scoped>\n",
       "    .dataframe tbody tr th:only-of-type {\n",
       "        vertical-align: middle;\n",
       "    }\n",
       "\n",
       "    .dataframe tbody tr th {\n",
       "        vertical-align: top;\n",
       "    }\n",
       "\n",
       "    .dataframe thead th {\n",
       "        text-align: right;\n",
       "    }\n",
       "</style>\n",
       "<table border=\"1\" class=\"dataframe\">\n",
       "  <thead>\n",
       "    <tr style=\"text-align: right;\">\n",
       "      <th></th>\n",
       "      <th>Accident_Severity</th>\n",
       "      <th>Light_Conditions</th>\n",
       "      <th>Weather_Conditions</th>\n",
       "      <th>Hour</th>\n",
       "    </tr>\n",
       "  </thead>\n",
       "  <tbody>\n",
       "    <tr>\n",
       "      <th>0</th>\n",
       "      <td>2</td>\n",
       "      <td>1</td>\n",
       "      <td>2</td>\n",
       "      <td>17</td>\n",
       "    </tr>\n",
       "    <tr>\n",
       "      <th>1</th>\n",
       "      <td>3</td>\n",
       "      <td>4</td>\n",
       "      <td>1</td>\n",
       "      <td>17</td>\n",
       "    </tr>\n",
       "    <tr>\n",
       "      <th>2</th>\n",
       "      <td>3</td>\n",
       "      <td>4</td>\n",
       "      <td>1</td>\n",
       "      <td>0</td>\n",
       "    </tr>\n",
       "    <tr>\n",
       "      <th>3</th>\n",
       "      <td>3</td>\n",
       "      <td>4</td>\n",
       "      <td>1</td>\n",
       "      <td>0</td>\n",
       "    </tr>\n",
       "    <tr>\n",
       "      <th>4</th>\n",
       "      <td>3</td>\n",
       "      <td>1</td>\n",
       "      <td>1</td>\n",
       "      <td>10</td>\n",
       "    </tr>\n",
       "  </tbody>\n",
       "</table>\n",
       "</div>"
      ],
      "text/plain": [
       "   Accident_Severity  Light_Conditions  Weather_Conditions  Hour\n",
       "0                  2                 1                   2    17\n",
       "1                  3                 4                   1    17\n",
       "2                  3                 4                   1     0\n",
       "3                  3                 4                   1     0\n",
       "4                  3                 1                   1    10"
      ]
     },
     "execution_count": 33,
     "metadata": {},
     "output_type": "execute_result"
    }
   ],
   "source": [
    "q9df=pd.DataFrame(data=df,columns=['Accident_Severity','Light_Conditions','Weather_Conditions','Hour'])\n",
    "q9df.head()"
   ]
  },
  {
   "cell_type": "code",
   "execution_count": 34,
   "metadata": {
    "_uuid": "38af73a5d8cba9049b101745f5d50c123db3dc18"
   },
   "outputs": [],
   "source": [
    "#creating function to identify time of day: morning, afternoon, evening, night, etc.\n",
    "def time_of_day(n):\n",
    "    if n in range(4,8):\n",
    "        return 'Early Morning'\n",
    "    elif n in range(8,12):\n",
    "        return 'Morning'\n",
    "    elif n in range(12,17):\n",
    "        return 'Afternoon'\n",
    "    elif n in range(17,20):\n",
    "        return 'Evening'\n",
    "    elif n in range(20,25) or n==0:\n",
    "        return 'Night'\n",
    "    elif n in range(1,4):\n",
    "        return 'Late Night'"
   ]
  },
  {
   "cell_type": "code",
   "execution_count": 35,
   "metadata": {
    "_uuid": "7e16197dcb16ff1fd89c4f9b31ce144c0c1c6e16"
   },
   "outputs": [],
   "source": [
    "q9df['Time_of_Day']=q9df['Hour'].apply(lambda x: time_of_day(x))"
   ]
  },
  {
   "cell_type": "code",
   "execution_count": 36,
   "metadata": {
    "_uuid": "6b20aa6fd00f0579e22d3c337a4b069c0e047ec5"
   },
   "outputs": [
    {
     "data": {
      "text/html": [
       "<div>\n",
       "<style scoped>\n",
       "    .dataframe tbody tr th:only-of-type {\n",
       "        vertical-align: middle;\n",
       "    }\n",
       "\n",
       "    .dataframe tbody tr th {\n",
       "        vertical-align: top;\n",
       "    }\n",
       "\n",
       "    .dataframe thead th {\n",
       "        text-align: right;\n",
       "    }\n",
       "</style>\n",
       "<table border=\"1\" class=\"dataframe\">\n",
       "  <thead>\n",
       "    <tr style=\"text-align: right;\">\n",
       "      <th></th>\n",
       "      <th>Accident_Severity</th>\n",
       "      <th>Light_Conditions</th>\n",
       "      <th>Weather_Conditions</th>\n",
       "      <th>Hour</th>\n",
       "      <th>Time_of_Day</th>\n",
       "    </tr>\n",
       "  </thead>\n",
       "  <tbody>\n",
       "    <tr>\n",
       "      <th>0</th>\n",
       "      <td>2</td>\n",
       "      <td>1</td>\n",
       "      <td>2</td>\n",
       "      <td>17</td>\n",
       "      <td>Evening</td>\n",
       "    </tr>\n",
       "    <tr>\n",
       "      <th>1</th>\n",
       "      <td>3</td>\n",
       "      <td>4</td>\n",
       "      <td>1</td>\n",
       "      <td>17</td>\n",
       "      <td>Evening</td>\n",
       "    </tr>\n",
       "    <tr>\n",
       "      <th>2</th>\n",
       "      <td>3</td>\n",
       "      <td>4</td>\n",
       "      <td>1</td>\n",
       "      <td>0</td>\n",
       "      <td>Night</td>\n",
       "    </tr>\n",
       "    <tr>\n",
       "      <th>3</th>\n",
       "      <td>3</td>\n",
       "      <td>4</td>\n",
       "      <td>1</td>\n",
       "      <td>0</td>\n",
       "      <td>Night</td>\n",
       "    </tr>\n",
       "    <tr>\n",
       "      <th>4</th>\n",
       "      <td>3</td>\n",
       "      <td>1</td>\n",
       "      <td>1</td>\n",
       "      <td>10</td>\n",
       "      <td>Morning</td>\n",
       "    </tr>\n",
       "  </tbody>\n",
       "</table>\n",
       "</div>"
      ],
      "text/plain": [
       "   Accident_Severity  Light_Conditions  Weather_Conditions  Hour Time_of_Day\n",
       "0                  2                 1                   2    17     Evening\n",
       "1                  3                 4                   1    17     Evening\n",
       "2                  3                 4                   1     0       Night\n",
       "3                  3                 4                   1     0       Night\n",
       "4                  3                 1                   1    10     Morning"
      ]
     },
     "execution_count": 36,
     "metadata": {},
     "output_type": "execute_result"
    }
   ],
   "source": [
    "q9df.head()"
   ]
  },
  {
   "cell_type": "code",
   "execution_count": 37,
   "metadata": {
    "_uuid": "07af170768b573d64b09563874aa2b93c442d0b9"
   },
   "outputs": [],
   "source": [
    "q9df=q9df[q9df.Weather_Conditions!=-1]"
   ]
  },
  {
   "cell_type": "code",
   "execution_count": 38,
   "metadata": {
    "_uuid": "341fa42a62953fb1fd7dde5dbbb26a09b71fc7a7"
   },
   "outputs": [
    {
     "data": {
      "text/plain": [
       "<AxesSubplot:>"
      ]
     },
     "execution_count": 38,
     "metadata": {},
     "output_type": "execute_result"
    },
    {
     "data": {
      "image/png": "[encoded data removed]",
      "text/plain": [
       "<Figure size 432x288 with 2 Axes>"
      ]
     },
     "metadata": {
      "needs_background": "light"
     },
     "output_type": "display_data"
    }
   ],
   "source": [
    "sns.heatmap(q9df.corr())"
   ]
  },
  {
   "cell_type": "code",
   "execution_count": 39,
   "metadata": {
    "_uuid": "d6e71d07447c25b5565d625ddf7487465168331e"
   },
   "outputs": [
    {
     "name": "stderr",
     "output_type": "stream",
     "text": [
      "C:\\Anaconda\\lib\\site-packages\\seaborn\\_decorators.py:36: FutureWarning: Pass the following variables as keyword args: x, y. From version 0.12, the only valid positional argument will be `data`, and passing other arguments without an explicit keyword will result in an error or misinterpretation.\n",
      "  warnings.warn(\n"
     ]
    },
    {
     "data": {
      "text/plain": [
       "Text(0.5, 1.0, 'Weather vs Hour_of_Accident')"
      ]
     },
     "execution_count": 39,
     "metadata": {},
     "output_type": "execute_result"
    },
    {
     "data": {
      "image/png": "[encoded data removed]",
      "text/plain": [
       "<Figure size 864x432 with 1 Axes>"
      ]
     },
     "metadata": {
      "needs_background": "light"
     },
     "output_type": "display_data"
    }
   ],
   "source": [
    "plt.figure(figsize=(12,6))\n",
    "sns.barplot('Weather_Conditions','Hour',data=q9df, hue='Accident_Severity',ci=None, palette='rainbow')\n",
    "plt.legend(bbox_to_anchor=(1,1))\n",
    "plt.title('Weather vs Hour_of_Accident')"
   ]
  },
  {
   "cell_type": "markdown",
   "metadata": {
    "_uuid": "29e75dc4da3880def6c9b3e65ac8f1f4b8828d1a"
   },
   "source": [
    "* 1: Fatal\n",
    "* 2: Serious\n",
    "* 3: Slight"
   ]
  },
  {
   "cell_type": "code",
   "execution_count": 40,
   "metadata": {
    "_uuid": "a7674ffafb9a5feafd8a304e78ece4bb40c456b1"
   },
   "outputs": [
    {
     "data": {
      "text/plain": [
       "<AxesSubplot:xlabel='Accident_Severity', ylabel='count'>"
      ]
     },
     "execution_count": 40,
     "metadata": {},
     "output_type": "execute_result"
    },
    {
     "data": {
      "image/png": "[encoded data removed]",
      "text/plain": [
       "<Figure size 864x288 with 1 Axes>"
      ]
     },
     "metadata": {
      "needs_background": "light"
     },
     "output_type": "display_data"
    }
   ],
   "source": [
    "plt.figure(figsize=(12,4))\n",
    "sns.countplot(x='Accident_Severity',data=q9df,hue='Weather_Conditions',palette='rainbow')"
   ]
  },
  {
   "cell_type": "markdown",
   "metadata": {
    "_uuid": "f6f376eddca270f4acb6713352f5e6972097aa84"
   },
   "source": [
    "**Weather Conditions**\n",
    "* 1: Fine no high winds\n",
    "* 2: Raining no high winds\n",
    "* 3: Snowing no high winds\n",
    "* 4: Fine + high winds\n",
    "* 5: Raining + high winds\n",
    "* 6: Snowing + high winds\n",
    "* 7: Fog or mist\n",
    "* 8: Other\n",
    "* 9: Unknown"
   ]
  },
  {
   "cell_type": "code",
   "execution_count": 41,
   "metadata": {
    "_uuid": "40693792d53655de279023e96f6b24afb3786e18"
   },
   "outputs": [
    {
     "data": {
      "text/plain": [
       "3    3606998\n",
       "2     596470\n",
       "1      83605\n",
       "Name: Accident_Severity, dtype: int64"
      ]
     },
     "execution_count": 41,
     "metadata": {},
     "output_type": "execute_result"
    }
   ],
   "source": [
    "df.Accident_Severity.value_counts()"
   ]
  },
  {
   "cell_type": "markdown",
   "metadata": {
    "_uuid": "9b6d099884da9ed460ab6e0ec04ffe15208fd726"
   },
   "source": [
    "***Results:***\n",
    "\n",
    "* Accidents usually take place in the afternoon: refer fig: Weather vs Hour_of_Accident\n",
    "* Accidents with Slight severity occured the most\n",
    "* **Accidents ususally took place when the Weather conditions were fine and also there weren't any high winds** : meaning which the weather conditions didn't effectively contribute to occurences of accidents."
   ]
  },
  {
   "cell_type": "markdown",
   "metadata": {
    "_uuid": "3e00b0a64949a6e24d29e2328a6eed077bf7492f"
   },
   "source": [
    "***Q10: Are certain car models safer than others?***"
   ]
  },
  {
   "cell_type": "code",
   "execution_count": 42,
   "metadata": {
    "_uuid": "552de6bb8e8d485584d06e146c1c2f02ebd5b2e2"
   },
   "outputs": [],
   "source": [
    "q10df=pd.DataFrame(data=df,columns=['Vehicle_Type','Age_of_Vehicle','Was_Vehicle_Left_Hand_Drive?'\n",
    "                                    ,'Propulsion_Code','Engine_Capacity_(CC)'])"
   ]
  },
  {
   "cell_type": "code",
   "execution_count": 43,
   "metadata": {
    "_uuid": "2b3405930100e5c28408e112ac2ec1f047ff2f50"
   },
   "outputs": [
    {
     "data": {
      "text/html": [
       "<div>\n",
       "<style scoped>\n",
       "    .dataframe tbody tr th:only-of-type {\n",
       "        vertical-align: middle;\n",
       "    }\n",
       "\n",
       "    .dataframe tbody tr th {\n",
       "        vertical-align: top;\n",
       "    }\n",
       "\n",
       "    .dataframe thead th {\n",
       "        text-align: right;\n",
       "    }\n",
       "</style>\n",
       "<table border=\"1\" class=\"dataframe\">\n",
       "  <thead>\n",
       "    <tr style=\"text-align: right;\">\n",
       "      <th></th>\n",
       "      <th>Vehicle_Type</th>\n",
       "      <th>Age_of_Vehicle</th>\n",
       "      <th>Was_Vehicle_Left_Hand_Drive?</th>\n",
       "      <th>Propulsion_Code</th>\n",
       "      <th>Engine_Capacity_(CC)</th>\n",
       "    </tr>\n",
       "  </thead>\n",
       "  <tbody>\n",
       "    <tr>\n",
       "      <th>0</th>\n",
       "      <td>9</td>\n",
       "      <td>-1</td>\n",
       "      <td>1</td>\n",
       "      <td>-1</td>\n",
       "      <td>-1</td>\n",
       "    </tr>\n",
       "    <tr>\n",
       "      <th>1</th>\n",
       "      <td>11</td>\n",
       "      <td>3</td>\n",
       "      <td>1</td>\n",
       "      <td>2</td>\n",
       "      <td>8268</td>\n",
       "    </tr>\n",
       "    <tr>\n",
       "      <th>2</th>\n",
       "      <td>11</td>\n",
       "      <td>5</td>\n",
       "      <td>1</td>\n",
       "      <td>2</td>\n",
       "      <td>8300</td>\n",
       "    </tr>\n",
       "    <tr>\n",
       "      <th>3</th>\n",
       "      <td>9</td>\n",
       "      <td>6</td>\n",
       "      <td>1</td>\n",
       "      <td>1</td>\n",
       "      <td>1762</td>\n",
       "    </tr>\n",
       "    <tr>\n",
       "      <th>4</th>\n",
       "      <td>9</td>\n",
       "      <td>4</td>\n",
       "      <td>1</td>\n",
       "      <td>1</td>\n",
       "      <td>1769</td>\n",
       "    </tr>\n",
       "  </tbody>\n",
       "</table>\n",
       "</div>"
      ],
      "text/plain": [
       "   Vehicle_Type  Age_of_Vehicle  Was_Vehicle_Left_Hand_Drive?  \\\n",
       "0             9              -1                             1   \n",
       "1            11               3                             1   \n",
       "2            11               5                             1   \n",
       "3             9               6                             1   \n",
       "4             9               4                             1   \n",
       "\n",
       "   Propulsion_Code  Engine_Capacity_(CC)  \n",
       "0               -1                    -1  \n",
       "1                2                  8268  \n",
       "2                2                  8300  \n",
       "3                1                  1762  \n",
       "4                1                  1769  "
      ]
     },
     "execution_count": 43,
     "metadata": {},
     "output_type": "execute_result"
    }
   ],
   "source": [
    "q10df=q10df[q10df.Vehicle_Type!=-1]\n",
    "q10df.head()"
   ]
  },
  {
   "cell_type": "code",
   "execution_count": 44,
   "metadata": {
    "_uuid": "7f8a76a8bd6b8fa49128b1586054b478141ae8b3"
   },
   "outputs": [],
   "source": [
    "q10df=q10df[q10df.Age_of_Vehicle!=-1]\n",
    "q10df=q10df[q10df.Propulsion_Code!=-1]\n",
    "q10df=q10df[q10df['Engine_Capacity_(CC)']!=-1]"
   ]
  },
  {
   "cell_type": "code",
   "execution_count": 45,
   "metadata": {
    "_uuid": "95d42aae48a3402de97675e70368d0fa0ecbce38"
   },
   "outputs": [],
   "source": [
    "map_vehicle_type={1:'Pedal cycle',\n",
    "2:'Motorcycle 50cc and under',\n",
    "3:'Motorcycle 125cc and under',\n",
    "4:'Motorcycle over 125cc and up to 500cc',\n",
    "5:'Motorcycle over 500cc',\n",
    "8:'Taxi/Private hire car',\n",
    "9:'Car',\n",
    "10:'Minibus (8 - 16 passenger seats)',\n",
    "11:'Bus or coach (17 or more pass seats)',\n",
    "16:'Ridden horse',\n",
    "17:'Agricultural vehicle',\n",
    "18:'Tram',\n",
    "19:'Van / Goods 3.5 tonnes mgw or under',\n",
    "20:'Goods over 3.5t. and under 7.5t',\n",
    "21:'Goods 7.5 tonnes mgw and over',\n",
    "22:'Mobility scooter',\n",
    "23:'Electric motorcycle',\n",
    "90:'Other vehicle',\n",
    "97:'Motorcycle - unknown cc',\n",
    "98:'Goods vehicle - unknown weight'\n",
    "}\n",
    "q10df['Vehicle_Type']=q10df.Vehicle_Type.map(map_vehicle_type)"
   ]
  },
  {
   "cell_type": "code",
   "execution_count": 46,
   "metadata": {
    "_uuid": "26e7afeb8e138f71339c597acc4c9358f71c6b6e"
   },
   "outputs": [],
   "source": [
    "map_prop={1:'Petrol',\n",
    "2:'Heavy oil',\n",
    "3:'Electric',\n",
    "4:'Steam',\n",
    "5:'Gas',\n",
    "6:'Petrol/Gas (LPG)',\n",
    "7:'Gas/Bi-fuel',\n",
    "8:'Hybrid electric',\n",
    "9:'Gas Diesel',\n",
    "10:'New fuel technology',\n",
    "11:'Fuel cells',\n",
    "12:'Electric diesel'\n",
    "}\n",
    "q10df['Propulsion_Code']=q10df.Propulsion_Code.map(map_prop)"
   ]
  },
  {
   "cell_type": "code",
   "execution_count": 47,
   "metadata": {
    "_uuid": "8d66ebc740a39362ca1e24c2724b983efa58fe6f"
   },
   "outputs": [
    {
     "data": {
      "text/html": [
       "<div>\n",
       "<style scoped>\n",
       "    .dataframe tbody tr th:only-of-type {\n",
       "        vertical-align: middle;\n",
       "    }\n",
       "\n",
       "    .dataframe tbody tr th {\n",
       "        vertical-align: top;\n",
       "    }\n",
       "\n",
       "    .dataframe thead th {\n",
       "        text-align: right;\n",
       "    }\n",
       "</style>\n",
       "<table border=\"1\" class=\"dataframe\">\n",
       "  <thead>\n",
       "    <tr style=\"text-align: right;\">\n",
       "      <th></th>\n",
       "      <th>Vehicle_Type</th>\n",
       "      <th>Age_of_Vehicle</th>\n",
       "      <th>Was_Vehicle_Left_Hand_Drive?</th>\n",
       "      <th>Propulsion_Code</th>\n",
       "      <th>Engine_Capacity_(CC)</th>\n",
       "    </tr>\n",
       "  </thead>\n",
       "  <tbody>\n",
       "    <tr>\n",
       "      <th>1</th>\n",
       "      <td>Bus or coach (17 or more pass seats)</td>\n",
       "      <td>3</td>\n",
       "      <td>1</td>\n",
       "      <td>Heavy oil</td>\n",
       "      <td>8268</td>\n",
       "    </tr>\n",
       "    <tr>\n",
       "      <th>2</th>\n",
       "      <td>Bus or coach (17 or more pass seats)</td>\n",
       "      <td>5</td>\n",
       "      <td>1</td>\n",
       "      <td>Heavy oil</td>\n",
       "      <td>8300</td>\n",
       "    </tr>\n",
       "    <tr>\n",
       "      <th>3</th>\n",
       "      <td>Car</td>\n",
       "      <td>6</td>\n",
       "      <td>1</td>\n",
       "      <td>Petrol</td>\n",
       "      <td>1762</td>\n",
       "    </tr>\n",
       "    <tr>\n",
       "      <th>4</th>\n",
       "      <td>Car</td>\n",
       "      <td>4</td>\n",
       "      <td>1</td>\n",
       "      <td>Petrol</td>\n",
       "      <td>1769</td>\n",
       "    </tr>\n",
       "    <tr>\n",
       "      <th>5</th>\n",
       "      <td>Motorcycle 125cc and under</td>\n",
       "      <td>10</td>\n",
       "      <td>1</td>\n",
       "      <td>Petrol</td>\n",
       "      <td>85</td>\n",
       "    </tr>\n",
       "  </tbody>\n",
       "</table>\n",
       "</div>"
      ],
      "text/plain": [
       "                           Vehicle_Type  Age_of_Vehicle  \\\n",
       "1  Bus or coach (17 or more pass seats)               3   \n",
       "2  Bus or coach (17 or more pass seats)               5   \n",
       "3                                   Car               6   \n",
       "4                                   Car               4   \n",
       "5            Motorcycle 125cc and under              10   \n",
       "\n",
       "   Was_Vehicle_Left_Hand_Drive? Propulsion_Code  Engine_Capacity_(CC)  \n",
       "1                             1       Heavy oil                  8268  \n",
       "2                             1       Heavy oil                  8300  \n",
       "3                             1          Petrol                  1762  \n",
       "4                             1          Petrol                  1769  \n",
       "5                             1          Petrol                    85  "
      ]
     },
     "execution_count": 47,
     "metadata": {},
     "output_type": "execute_result"
    }
   ],
   "source": [
    "q10df=q10df[q10df['Was_Vehicle_Left_Hand_Drive?']!=-1]\n",
    "q10df.head()"
   ]
  },
  {
   "cell_type": "code",
   "execution_count": 48,
   "metadata": {
    "_uuid": "9f2491c1cc4efb5750e103cd01c82594714a531a"
   },
   "outputs": [
    {
     "name": "stderr",
     "output_type": "stream",
     "text": [
      "C:\\Anaconda\\lib\\site-packages\\seaborn\\_decorators.py:36: FutureWarning: Pass the following variable as a keyword arg: x. From version 0.12, the only valid positional argument will be `data`, and passing other arguments without an explicit keyword will result in an error or misinterpretation.\n",
      "  warnings.warn(\n"
     ]
    },
    {
     "data": {
      "text/plain": [
       "(array([ 0,  1,  2,  3,  4,  5,  6,  7,  8,  9, 10, 11, 12, 13, 14, 15]),\n",
       " [Text(0, 0, 'Bus or coach (17 or more pass seats)'),\n",
       "  Text(1, 0, 'Car'),\n",
       "  Text(2, 0, 'Motorcycle 125cc and under'),\n",
       "  Text(3, 0, 'Motorcycle over 500cc'),\n",
       "  Text(4, 0, 'Motorcycle over 125cc and up to 500cc'),\n",
       "  Text(5, 0, 'Taxi/Private hire car'),\n",
       "  Text(6, 0, 'Van / Goods 3.5 tonnes mgw or under'),\n",
       "  Text(7, 0, 'Goods 7.5 tonnes mgw and over'),\n",
       "  Text(8, 0, 'Motorcycle 50cc and under'),\n",
       "  Text(9, 0, 'Minibus (8 - 16 passenger seats)'),\n",
       "  Text(10, 0, 'Goods over 3.5t. and under 7.5t'),\n",
       "  Text(11, 0, 'Other vehicle'),\n",
       "  Text(12, 0, 'Agricultural vehicle'),\n",
       "  Text(13, 0, 'Motorcycle - unknown cc'),\n",
       "  Text(14, 0, 'Goods vehicle - unknown weight'),\n",
       "  Text(15, 0, 'Electric motorcycle')])"
      ]
     },
     "execution_count": 48,
     "metadata": {},
     "output_type": "execute_result"
    },
    {
     "data": {
      "image/png": "[encoded data removed]",
      "text/plain": [
       "<Figure size 864x288 with 1 Axes>"
      ]
     },
     "metadata": {
      "needs_background": "light"
     },
     "output_type": "display_data"
    }
   ],
   "source": [
    "plt.figure(figsize=(12,4))\n",
    "sns.countplot('Vehicle_Type',data=q10df, palette='rainbow')\n",
    "plt.xticks(rotation=90)"
   ]
  },
  {
   "cell_type": "markdown",
   "metadata": {
    "_uuid": "e6139ccd5161a7b35b7af1b2b82bdd70f713f6aa"
   },
   "source": [
    "**Number of accidents taking place with other vehicles are almost negligible as comapred to those with Cars.**"
   ]
  },
  {
   "cell_type": "code",
   "execution_count": 49,
   "metadata": {
    "_uuid": "cb170b571c78230af34c73798d1e779d8b9b8120"
   },
   "outputs": [
    {
     "name": "stderr",
     "output_type": "stream",
     "text": [
      "C:\\Anaconda\\lib\\site-packages\\seaborn\\_decorators.py:36: FutureWarning: Pass the following variable as a keyword arg: x. From version 0.12, the only valid positional argument will be `data`, and passing other arguments without an explicit keyword will result in an error or misinterpretation.\n",
      "  warnings.warn(\n"
     ]
    },
    {
     "data": {
      "text/plain": [
       "(array([ 0,  1,  2,  3,  4,  5,  6,  7,  8,  9, 10, 11, 12, 13, 14, 15]),\n",
       " [Text(0, 0, 'Bus or coach (17 or more pass seats)'),\n",
       "  Text(1, 0, 'Car'),\n",
       "  Text(2, 0, 'Motorcycle 125cc and under'),\n",
       "  Text(3, 0, 'Motorcycle over 500cc'),\n",
       "  Text(4, 0, 'Motorcycle over 125cc and up to 500cc'),\n",
       "  Text(5, 0, 'Taxi/Private hire car'),\n",
       "  Text(6, 0, 'Van / Goods 3.5 tonnes mgw or under'),\n",
       "  Text(7, 0, 'Goods 7.5 tonnes mgw and over'),\n",
       "  Text(8, 0, 'Motorcycle 50cc and under'),\n",
       "  Text(9, 0, 'Minibus (8 - 16 passenger seats)'),\n",
       "  Text(10, 0, 'Goods over 3.5t. and under 7.5t'),\n",
       "  Text(11, 0, 'Other vehicle'),\n",
       "  Text(12, 0, 'Agricultural vehicle'),\n",
       "  Text(13, 0, 'Motorcycle - unknown cc'),\n",
       "  Text(14, 0, 'Goods vehicle - unknown weight'),\n",
       "  Text(15, 0, 'Electric motorcycle')])"
      ]
     },
     "execution_count": 49,
     "metadata": {},
     "output_type": "execute_result"
    },
    {
     "data": {
      "image/png": "[encoded data removed]",
      "text/plain": [
       "<Figure size 864x288 with 1 Axes>"
      ]
     },
     "metadata": {
      "needs_background": "light"
     },
     "output_type": "display_data"
    }
   ],
   "source": [
    "plt.figure(figsize=(12,4))\n",
    "sns.countplot('Vehicle_Type',data=q10df, hue='Was_Vehicle_Left_Hand_Drive?', palette='Set2')\n",
    "plt.xticks(rotation=90)"
   ]
  },
  {
   "cell_type": "markdown",
   "metadata": {
    "_uuid": "e0dea26504b3fa138f1401bb8806a6064c126d22"
   },
   "source": [
    "**The vehicles which met with an accident were primarily Left-Hand-Driven type of vehicles.**"
   ]
  },
  {
   "cell_type": "code",
   "execution_count": 50,
   "metadata": {
    "_uuid": "6d932c09c9829caf42ee241946ff54bded23bedb"
   },
   "outputs": [
    {
     "name": "stderr",
     "output_type": "stream",
     "text": [
      "C:\\Anaconda\\lib\\site-packages\\seaborn\\_decorators.py:36: FutureWarning: Pass the following variables as keyword args: x, y. From version 0.12, the only valid positional argument will be `data`, and passing other arguments without an explicit keyword will result in an error or misinterpretation.\n",
      "  warnings.warn(\n"
     ]
    },
    {
     "data": {
      "text/plain": [
       "<matplotlib.legend.Legend at 0x1e64675f1f0>"
      ]
     },
     "execution_count": 50,
     "metadata": {},
     "output_type": "execute_result"
    },
    {
     "data": {
      "image/png": "[encoded data removed]",
      "text/plain": [
       "<Figure size 864x288 with 1 Axes>"
      ]
     },
     "metadata": {
      "needs_background": "light"
     },
     "output_type": "display_data"
    }
   ],
   "source": [
    "plt.figure(figsize=(12,4))\n",
    "sns.barplot('Vehicle_Type','Engine_Capacity_(CC)',data=q10df, hue='Propulsion_Code', palette='Set2',ci=None)\n",
    "plt.xticks(rotation=90)\n",
    "plt.legend(bbox_to_anchor=(1,1))"
   ]
  },
  {
   "cell_type": "markdown",
   "metadata": {
    "_uuid": "75781bdfbe2567928835368652daf9a3bc8f9f25"
   },
   "source": [
    "**Cars had low Engine Capacity with all types of fuel, which could be a possible reason for accidents.**"
   ]
  },
  {
   "cell_type": "markdown",
   "metadata": {},
   "source": [
    "## Forecasting and predictions"
   ]
  },
  {
   "cell_type": "markdown",
   "metadata": {
    "_uuid": "3a38fa7b964c0f94f884cacff25aaa7e495ca9c4"
   },
   "source": [
    "As per the final objective of this project, we want to forecast which attribute of fatal accidents we can predict using machine learning techniques."
   ]
  },
  {
   "cell_type": "code",
   "execution_count": 51,
   "metadata": {
    "_uuid": "ed5d672660703158ceec5b1180a15634c344033c"
   },
   "outputs": [
    {
     "data": {
      "text/html": [
       "<div>\n",
       "<style scoped>\n",
       "    .dataframe tbody tr th:only-of-type {\n",
       "        vertical-align: middle;\n",
       "    }\n",
       "\n",
       "    .dataframe tbody tr th {\n",
       "        vertical-align: top;\n",
       "    }\n",
       "\n",
       "    .dataframe thead th {\n",
       "        text-align: right;\n",
       "    }\n",
       "</style>\n",
       "<table border=\"1\" class=\"dataframe\">\n",
       "  <thead>\n",
       "    <tr style=\"text-align: right;\">\n",
       "      <th></th>\n",
       "      <th>Sex_of_Driver</th>\n",
       "      <th>Age_of_Driver</th>\n",
       "      <th>Vehicle_Type</th>\n",
       "      <th>Month</th>\n",
       "      <th>Accident_Severity</th>\n",
       "    </tr>\n",
       "  </thead>\n",
       "  <tbody>\n",
       "    <tr>\n",
       "      <th>0</th>\n",
       "      <td>2</td>\n",
       "      <td>74</td>\n",
       "      <td>9</td>\n",
       "      <td>1</td>\n",
       "      <td>2</td>\n",
       "    </tr>\n",
       "    <tr>\n",
       "      <th>1</th>\n",
       "      <td>1</td>\n",
       "      <td>42</td>\n",
       "      <td>11</td>\n",
       "      <td>1</td>\n",
       "      <td>3</td>\n",
       "    </tr>\n",
       "    <tr>\n",
       "      <th>2</th>\n",
       "      <td>1</td>\n",
       "      <td>35</td>\n",
       "      <td>11</td>\n",
       "      <td>1</td>\n",
       "      <td>3</td>\n",
       "    </tr>\n",
       "    <tr>\n",
       "      <th>3</th>\n",
       "      <td>1</td>\n",
       "      <td>62</td>\n",
       "      <td>9</td>\n",
       "      <td>1</td>\n",
       "      <td>3</td>\n",
       "    </tr>\n",
       "    <tr>\n",
       "      <th>4</th>\n",
       "      <td>2</td>\n",
       "      <td>49</td>\n",
       "      <td>9</td>\n",
       "      <td>1</td>\n",
       "      <td>3</td>\n",
       "    </tr>\n",
       "  </tbody>\n",
       "</table>\n",
       "</div>"
      ],
      "text/plain": [
       "   Sex_of_Driver  Age_of_Driver  Vehicle_Type  Month  Accident_Severity\n",
       "0              2             74             9      1                  2\n",
       "1              1             42            11      1                  3\n",
       "2              1             35            11      1                  3\n",
       "3              1             62             9      1                  3\n",
       "4              2             49             9      1                  3"
      ]
     },
     "execution_count": 51,
     "metadata": {},
     "output_type": "execute_result"
    }
   ],
   "source": [
    "fatal_df=pd.DataFrame(data=df,columns=['Sex_of_Driver','Age_of_Driver','Vehicle_Type','Month','Accident_Severity'])\n",
    "fatal_df=fatal_df[(fatal_df.Sex_of_Driver!=-1) & (fatal_df.Vehicle_Type!=-1) & (fatal_df.Sex_of_Driver!=-1) & (fatal_df.Sex_of_Driver!=3)]\n",
    "fatal_df.head()"
   ]
  },
  {
   "cell_type": "code",
   "execution_count": 52,
   "metadata": {
    "_uuid": "f6be066337072ab8627eac0ab4eea4f1cca4e386"
   },
   "outputs": [
    {
     "data": {
      "text/html": [
       "<div>\n",
       "<style scoped>\n",
       "    .dataframe tbody tr th:only-of-type {\n",
       "        vertical-align: middle;\n",
       "    }\n",
       "\n",
       "    .dataframe tbody tr th {\n",
       "        vertical-align: top;\n",
       "    }\n",
       "\n",
       "    .dataframe thead th {\n",
       "        text-align: right;\n",
       "    }\n",
       "</style>\n",
       "<table border=\"1\" class=\"dataframe\">\n",
       "  <thead>\n",
       "    <tr style=\"text-align: right;\">\n",
       "      <th></th>\n",
       "      <th>Age_of_Driver</th>\n",
       "      <th>Vehicle_Type</th>\n",
       "      <th>Month</th>\n",
       "      <th>Accident_Severity</th>\n",
       "      <th>Sex_of_Driver_1</th>\n",
       "      <th>Sex_of_Driver_2</th>\n",
       "    </tr>\n",
       "  </thead>\n",
       "  <tbody>\n",
       "    <tr>\n",
       "      <th>0</th>\n",
       "      <td>74</td>\n",
       "      <td>9</td>\n",
       "      <td>1</td>\n",
       "      <td>2</td>\n",
       "      <td>0</td>\n",
       "      <td>1</td>\n",
       "    </tr>\n",
       "    <tr>\n",
       "      <th>1</th>\n",
       "      <td>42</td>\n",
       "      <td>11</td>\n",
       "      <td>1</td>\n",
       "      <td>3</td>\n",
       "      <td>1</td>\n",
       "      <td>0</td>\n",
       "    </tr>\n",
       "    <tr>\n",
       "      <th>2</th>\n",
       "      <td>35</td>\n",
       "      <td>11</td>\n",
       "      <td>1</td>\n",
       "      <td>3</td>\n",
       "      <td>1</td>\n",
       "      <td>0</td>\n",
       "    </tr>\n",
       "    <tr>\n",
       "      <th>3</th>\n",
       "      <td>62</td>\n",
       "      <td>9</td>\n",
       "      <td>1</td>\n",
       "      <td>3</td>\n",
       "      <td>1</td>\n",
       "      <td>0</td>\n",
       "    </tr>\n",
       "    <tr>\n",
       "      <th>4</th>\n",
       "      <td>49</td>\n",
       "      <td>9</td>\n",
       "      <td>1</td>\n",
       "      <td>3</td>\n",
       "      <td>0</td>\n",
       "      <td>1</td>\n",
       "    </tr>\n",
       "  </tbody>\n",
       "</table>\n",
       "</div>"
      ],
      "text/plain": [
       "   Age_of_Driver  Vehicle_Type  Month  Accident_Severity  Sex_of_Driver_1  \\\n",
       "0             74             9      1                  2                0   \n",
       "1             42            11      1                  3                1   \n",
       "2             35            11      1                  3                1   \n",
       "3             62             9      1                  3                1   \n",
       "4             49             9      1                  3                0   \n",
       "\n",
       "   Sex_of_Driver_2  \n",
       "0                1  \n",
       "1                0  \n",
       "2                0  \n",
       "3                0  \n",
       "4                1  "
      ]
     },
     "execution_count": 52,
     "metadata": {},
     "output_type": "execute_result"
    }
   ],
   "source": [
    "acc=pd.get_dummies(data=fatal_df,columns=['Accident_Severity'])\n",
    "sex=pd.get_dummies(data=fatal_df,columns=['Sex_of_Driver'])\n",
    "sex.head()"
   ]
  },
  {
   "cell_type": "markdown",
   "metadata": {},
   "source": [
    "***Forecasting first considering the male gender***"
   ]
  },
  {
   "cell_type": "code",
   "execution_count": 53,
   "metadata": {
    "_uuid": "d3c94f1960074e14d24cd399813f1de0d6faac4c"
   },
   "outputs": [
    {
     "data": {
      "text/html": [
       "<div>\n",
       "<style scoped>\n",
       "    .dataframe tbody tr th:only-of-type {\n",
       "        vertical-align: middle;\n",
       "    }\n",
       "\n",
       "    .dataframe tbody tr th {\n",
       "        vertical-align: top;\n",
       "    }\n",
       "\n",
       "    .dataframe thead th {\n",
       "        text-align: right;\n",
       "    }\n",
       "</style>\n",
       "<table border=\"1\" class=\"dataframe\">\n",
       "  <thead>\n",
       "    <tr style=\"text-align: right;\">\n",
       "      <th></th>\n",
       "      <th>Sex_of_Driver</th>\n",
       "      <th>Age_of_Driver</th>\n",
       "      <th>Vehicle_Type</th>\n",
       "      <th>Month</th>\n",
       "      <th>Accident_Severity</th>\n",
       "      <th>Accident_Severity_1</th>\n",
       "      <th>Sex_of_Driver_1</th>\n",
       "    </tr>\n",
       "  </thead>\n",
       "  <tbody>\n",
       "    <tr>\n",
       "      <th>0</th>\n",
       "      <td>2</td>\n",
       "      <td>74</td>\n",
       "      <td>9</td>\n",
       "      <td>1</td>\n",
       "      <td>2</td>\n",
       "      <td>0</td>\n",
       "      <td>0</td>\n",
       "    </tr>\n",
       "    <tr>\n",
       "      <th>1</th>\n",
       "      <td>1</td>\n",
       "      <td>42</td>\n",
       "      <td>11</td>\n",
       "      <td>1</td>\n",
       "      <td>3</td>\n",
       "      <td>0</td>\n",
       "      <td>1</td>\n",
       "    </tr>\n",
       "    <tr>\n",
       "      <th>2</th>\n",
       "      <td>1</td>\n",
       "      <td>35</td>\n",
       "      <td>11</td>\n",
       "      <td>1</td>\n",
       "      <td>3</td>\n",
       "      <td>0</td>\n",
       "      <td>1</td>\n",
       "    </tr>\n",
       "    <tr>\n",
       "      <th>3</th>\n",
       "      <td>1</td>\n",
       "      <td>62</td>\n",
       "      <td>9</td>\n",
       "      <td>1</td>\n",
       "      <td>3</td>\n",
       "      <td>0</td>\n",
       "      <td>1</td>\n",
       "    </tr>\n",
       "    <tr>\n",
       "      <th>4</th>\n",
       "      <td>2</td>\n",
       "      <td>49</td>\n",
       "      <td>9</td>\n",
       "      <td>1</td>\n",
       "      <td>3</td>\n",
       "      <td>0</td>\n",
       "      <td>0</td>\n",
       "    </tr>\n",
       "  </tbody>\n",
       "</table>\n",
       "</div>"
      ],
      "text/plain": [
       "   Sex_of_Driver  Age_of_Driver  Vehicle_Type  Month  Accident_Severity  \\\n",
       "0              2             74             9      1                  2   \n",
       "1              1             42            11      1                  3   \n",
       "2              1             35            11      1                  3   \n",
       "3              1             62             9      1                  3   \n",
       "4              2             49             9      1                  3   \n",
       "\n",
       "   Accident_Severity_1  Sex_of_Driver_1  \n",
       "0                    0                0  \n",
       "1                    0                1  \n",
       "2                    0                1  \n",
       "3                    0                1  \n",
       "4                    0                0  "
      ]
     },
     "execution_count": 53,
     "metadata": {},
     "output_type": "execute_result"
    }
   ],
   "source": [
    "fatal_df_male=pd.concat([fatal_df,acc['Accident_Severity_1'],sex['Sex_of_Driver_1']],axis=1)\n",
    "fatal_df_male.head()"
   ]
  },
  {
   "cell_type": "code",
   "execution_count": 54,
   "metadata": {
    "_uuid": "69f95e7cf09609c2dfd81c1cf8bf3dd3214c2779"
   },
   "outputs": [
    {
     "data": {
      "text/html": [
       "<div>\n",
       "<style scoped>\n",
       "    .dataframe tbody tr th:only-of-type {\n",
       "        vertical-align: middle;\n",
       "    }\n",
       "\n",
       "    .dataframe tbody tr th {\n",
       "        vertical-align: top;\n",
       "    }\n",
       "\n",
       "    .dataframe thead th {\n",
       "        text-align: right;\n",
       "    }\n",
       "</style>\n",
       "<table border=\"1\" class=\"dataframe\">\n",
       "  <thead>\n",
       "    <tr style=\"text-align: right;\">\n",
       "      <th></th>\n",
       "      <th>Age_of_Driver</th>\n",
       "      <th>Vehicle_Type</th>\n",
       "      <th>Month</th>\n",
       "      <th>Accident_Severity_1</th>\n",
       "      <th>Sex_of_Driver_1</th>\n",
       "    </tr>\n",
       "  </thead>\n",
       "  <tbody>\n",
       "    <tr>\n",
       "      <th>0</th>\n",
       "      <td>74</td>\n",
       "      <td>9</td>\n",
       "      <td>1</td>\n",
       "      <td>0</td>\n",
       "      <td>0</td>\n",
       "    </tr>\n",
       "    <tr>\n",
       "      <th>1</th>\n",
       "      <td>42</td>\n",
       "      <td>11</td>\n",
       "      <td>1</td>\n",
       "      <td>0</td>\n",
       "      <td>1</td>\n",
       "    </tr>\n",
       "    <tr>\n",
       "      <th>2</th>\n",
       "      <td>35</td>\n",
       "      <td>11</td>\n",
       "      <td>1</td>\n",
       "      <td>0</td>\n",
       "      <td>1</td>\n",
       "    </tr>\n",
       "    <tr>\n",
       "      <th>3</th>\n",
       "      <td>62</td>\n",
       "      <td>9</td>\n",
       "      <td>1</td>\n",
       "      <td>0</td>\n",
       "      <td>1</td>\n",
       "    </tr>\n",
       "    <tr>\n",
       "      <th>4</th>\n",
       "      <td>49</td>\n",
       "      <td>9</td>\n",
       "      <td>1</td>\n",
       "      <td>0</td>\n",
       "      <td>0</td>\n",
       "    </tr>\n",
       "  </tbody>\n",
       "</table>\n",
       "</div>"
      ],
      "text/plain": [
       "   Age_of_Driver  Vehicle_Type  Month  Accident_Severity_1  Sex_of_Driver_1\n",
       "0             74             9      1                    0                0\n",
       "1             42            11      1                    0                1\n",
       "2             35            11      1                    0                1\n",
       "3             62             9      1                    0                1\n",
       "4             49             9      1                    0                0"
      ]
     },
     "execution_count": 54,
     "metadata": {},
     "output_type": "execute_result"
    }
   ],
   "source": [
    "fatal_df_male.drop(['Accident_Severity','Sex_of_Driver'],axis=1,inplace=True)\n",
    "fatal_df_male.head()"
   ]
  },
  {
   "cell_type": "markdown",
   "metadata": {
    "_uuid": "ac2e6eed00c5e9cae2b6580d6d6e43ef4d99139c"
   },
   "source": [
    "**Note: Accident_Severity_1 corresponds to fatal accident and Sex_of_Driver_1 corresponds to male driver**"
   ]
  },
  {
   "cell_type": "code",
   "execution_count": 55,
   "metadata": {
    "_uuid": "d14ec8363cdcc415163fe263162d8edca19c54c4"
   },
   "outputs": [],
   "source": [
    "X=fatal_df_male.drop('Accident_Severity_1',axis=1)\n",
    "y=fatal_df_male['Accident_Severity_1']"
   ]
  },
  {
   "cell_type": "code",
   "execution_count": 56,
   "metadata": {
    "_uuid": "462f4ced4e67a2d648e49c75e45b48464a2b28dc"
   },
   "outputs": [],
   "source": [
    "X_train, X_test, y_train, y_test= train_test_split(X,y)"
   ]
  },
  {
   "cell_type": "markdown",
   "metadata": {
    "_uuid": "d9e97c5fa6e09ac435eeb8164da273dfe97978d8"
   },
   "source": [
    "***Using Decision Tree***"
   ]
  },
  {
   "cell_type": "code",
   "execution_count": 57,
   "metadata": {
    "_uuid": "53cac05dd3dee20a113cde9e88e1736d8c4b2e2b"
   },
   "outputs": [
    {
     "name": "stdout",
     "output_type": "stream",
     "text": [
      "\n",
      "Classification Report--> \n",
      "\n",
      "\n",
      "              precision    recall  f1-score   support\n",
      "\n",
      "           0       0.98      1.00      0.99    998270\n",
      "           1       0.46      0.00      0.01     20282\n",
      "\n",
      "    accuracy                           0.98   1018552\n",
      "   macro avg       0.72      0.50      0.50   1018552\n",
      "weighted avg       0.97      0.98      0.97   1018552\n",
      "\n",
      "\n",
      "Confusion Matrix--> \n",
      "\n",
      "\n",
      "[[998180     90]\n",
      " [ 20205     77]]\n"
     ]
    }
   ],
   "source": [
    "dtree= DecisionTreeClassifier()\n",
    "dtree.fit(X_train,y_train)\n",
    "predictions= dtree.predict(X_test)\n",
    "print(\"\\nClassification Report--> \\n\\n\")\n",
    "print(classification_report(y_test,predictions))\n",
    "print(\"\\nConfusion Matrix--> \\n\\n\")\n",
    "print(confusion_matrix(y_test,predictions))"
   ]
  },
  {
   "cell_type": "markdown",
   "metadata": {
    "_uuid": "482f5fb6b7d91a03639d8abea00563f1bc1e47f1"
   },
   "source": [
    "***Results:***\n",
    "\n",
    "**It seems like the model didn't do well**\n",
    "* Though the precision is good, it is noticed that the model had better predictions for only case: 0\n",
    "* Also, checking the recall, it is noticed that case: 1 is neglected."
   ]
  },
  {
   "cell_type": "code",
   "execution_count": 65,
   "metadata": {
    "scrolled": true
   },
   "outputs": [
    {
     "name": "stdout",
     "output_type": "stream",
     "text": [
      "dot: graph is too large for cairo-renderer bitmaps. Scaling by 0.289459 to fit\r\n",
      "\n"
     ]
    },
    {
     "data": {
      "text/plain": [
       "True"
      ]
     },
     "execution_count": 65,
     "metadata": {},
     "output_type": "execute_result"
    }
   ],
   "source": [
    "#Decision Tree Visualization\n",
    "clf = DecisionTreeClassifier(criterion = \"entropy\", max_depth=10)\n",
    "clf.fit(X_train,y_train)\n",
    "dot_data = StringIO()\n",
    "export_graphviz(clf, out_file=dot_data, filled=True, rounded=True, special_characters=True,feature_names = X.columns.tolist(),class_names=['0','1'])\n",
    "graph = pydotplus.graph_from_dot_data(dot_data.getvalue())\n",
    "graph.write_png('data.png')\n",
    "#Image(graph.create_png())"
   ]
  },
  {
   "cell_type": "markdown",
   "metadata": {},
   "source": [
    "***Forecasting second considering the female gender***"
   ]
  },
  {
   "cell_type": "code",
   "execution_count": 59,
   "metadata": {},
   "outputs": [
    {
     "data": {
      "text/html": [
       "<div>\n",
       "<style scoped>\n",
       "    .dataframe tbody tr th:only-of-type {\n",
       "        vertical-align: middle;\n",
       "    }\n",
       "\n",
       "    .dataframe tbody tr th {\n",
       "        vertical-align: top;\n",
       "    }\n",
       "\n",
       "    .dataframe thead th {\n",
       "        text-align: right;\n",
       "    }\n",
       "</style>\n",
       "<table border=\"1\" class=\"dataframe\">\n",
       "  <thead>\n",
       "    <tr style=\"text-align: right;\">\n",
       "      <th></th>\n",
       "      <th>Sex_of_Driver</th>\n",
       "      <th>Age_of_Driver</th>\n",
       "      <th>Vehicle_Type</th>\n",
       "      <th>Month</th>\n",
       "      <th>Accident_Severity</th>\n",
       "      <th>Accident_Severity_1</th>\n",
       "      <th>Sex_of_Driver_2</th>\n",
       "    </tr>\n",
       "  </thead>\n",
       "  <tbody>\n",
       "    <tr>\n",
       "      <th>0</th>\n",
       "      <td>2</td>\n",
       "      <td>74</td>\n",
       "      <td>9</td>\n",
       "      <td>1</td>\n",
       "      <td>2</td>\n",
       "      <td>0</td>\n",
       "      <td>1</td>\n",
       "    </tr>\n",
       "    <tr>\n",
       "      <th>1</th>\n",
       "      <td>1</td>\n",
       "      <td>42</td>\n",
       "      <td>11</td>\n",
       "      <td>1</td>\n",
       "      <td>3</td>\n",
       "      <td>0</td>\n",
       "      <td>0</td>\n",
       "    </tr>\n",
       "    <tr>\n",
       "      <th>2</th>\n",
       "      <td>1</td>\n",
       "      <td>35</td>\n",
       "      <td>11</td>\n",
       "      <td>1</td>\n",
       "      <td>3</td>\n",
       "      <td>0</td>\n",
       "      <td>0</td>\n",
       "    </tr>\n",
       "    <tr>\n",
       "      <th>3</th>\n",
       "      <td>1</td>\n",
       "      <td>62</td>\n",
       "      <td>9</td>\n",
       "      <td>1</td>\n",
       "      <td>3</td>\n",
       "      <td>0</td>\n",
       "      <td>0</td>\n",
       "    </tr>\n",
       "    <tr>\n",
       "      <th>4</th>\n",
       "      <td>2</td>\n",
       "      <td>49</td>\n",
       "      <td>9</td>\n",
       "      <td>1</td>\n",
       "      <td>3</td>\n",
       "      <td>0</td>\n",
       "      <td>1</td>\n",
       "    </tr>\n",
       "  </tbody>\n",
       "</table>\n",
       "</div>"
      ],
      "text/plain": [
       "   Sex_of_Driver  Age_of_Driver  Vehicle_Type  Month  Accident_Severity  \\\n",
       "0              2             74             9      1                  2   \n",
       "1              1             42            11      1                  3   \n",
       "2              1             35            11      1                  3   \n",
       "3              1             62             9      1                  3   \n",
       "4              2             49             9      1                  3   \n",
       "\n",
       "   Accident_Severity_1  Sex_of_Driver_2  \n",
       "0                    0                1  \n",
       "1                    0                0  \n",
       "2                    0                0  \n",
       "3                    0                0  \n",
       "4                    0                1  "
      ]
     },
     "execution_count": 59,
     "metadata": {},
     "output_type": "execute_result"
    }
   ],
   "source": [
    "fatal_df_female=pd.concat([fatal_df,acc['Accident_Severity_1'],sex['Sex_of_Driver_2']],axis=1)\n",
    "fatal_df_female.head()"
   ]
  },
  {
   "cell_type": "code",
   "execution_count": 60,
   "metadata": {},
   "outputs": [
    {
     "data": {
      "text/html": [
       "<div>\n",
       "<style scoped>\n",
       "    .dataframe tbody tr th:only-of-type {\n",
       "        vertical-align: middle;\n",
       "    }\n",
       "\n",
       "    .dataframe tbody tr th {\n",
       "        vertical-align: top;\n",
       "    }\n",
       "\n",
       "    .dataframe thead th {\n",
       "        text-align: right;\n",
       "    }\n",
       "</style>\n",
       "<table border=\"1\" class=\"dataframe\">\n",
       "  <thead>\n",
       "    <tr style=\"text-align: right;\">\n",
       "      <th></th>\n",
       "      <th>Age_of_Driver</th>\n",
       "      <th>Vehicle_Type</th>\n",
       "      <th>Month</th>\n",
       "      <th>Accident_Severity_1</th>\n",
       "      <th>Sex_of_Driver_2</th>\n",
       "    </tr>\n",
       "  </thead>\n",
       "  <tbody>\n",
       "    <tr>\n",
       "      <th>0</th>\n",
       "      <td>74</td>\n",
       "      <td>9</td>\n",
       "      <td>1</td>\n",
       "      <td>0</td>\n",
       "      <td>1</td>\n",
       "    </tr>\n",
       "    <tr>\n",
       "      <th>1</th>\n",
       "      <td>42</td>\n",
       "      <td>11</td>\n",
       "      <td>1</td>\n",
       "      <td>0</td>\n",
       "      <td>0</td>\n",
       "    </tr>\n",
       "    <tr>\n",
       "      <th>2</th>\n",
       "      <td>35</td>\n",
       "      <td>11</td>\n",
       "      <td>1</td>\n",
       "      <td>0</td>\n",
       "      <td>0</td>\n",
       "    </tr>\n",
       "    <tr>\n",
       "      <th>3</th>\n",
       "      <td>62</td>\n",
       "      <td>9</td>\n",
       "      <td>1</td>\n",
       "      <td>0</td>\n",
       "      <td>0</td>\n",
       "    </tr>\n",
       "    <tr>\n",
       "      <th>4</th>\n",
       "      <td>49</td>\n",
       "      <td>9</td>\n",
       "      <td>1</td>\n",
       "      <td>0</td>\n",
       "      <td>1</td>\n",
       "    </tr>\n",
       "  </tbody>\n",
       "</table>\n",
       "</div>"
      ],
      "text/plain": [
       "   Age_of_Driver  Vehicle_Type  Month  Accident_Severity_1  Sex_of_Driver_2\n",
       "0             74             9      1                    0                1\n",
       "1             42            11      1                    0                0\n",
       "2             35            11      1                    0                0\n",
       "3             62             9      1                    0                0\n",
       "4             49             9      1                    0                1"
      ]
     },
     "execution_count": 60,
     "metadata": {},
     "output_type": "execute_result"
    }
   ],
   "source": [
    "fatal_df_female.drop(['Accident_Severity','Sex_of_Driver'],axis=1,inplace=True)\n",
    "fatal_df_female.head()"
   ]
  },
  {
   "cell_type": "markdown",
   "metadata": {},
   "source": [
    "**Note: Accident_Severity_1 corresponds to fatal accident and Sex_of_Driver_2 corresponds to female drivers**"
   ]
  },
  {
   "cell_type": "code",
   "execution_count": 61,
   "metadata": {},
   "outputs": [],
   "source": [
    "XX=fatal_df_female.drop('Accident_Severity_1',axis=1)\n",
    "yy=fatal_df_female['Accident_Severity_1']"
   ]
  },
  {
   "cell_type": "code",
   "execution_count": 62,
   "metadata": {},
   "outputs": [],
   "source": [
    "XX_train, XX_test, yy_train, yy_test= train_test_split(XX,yy)"
   ]
  },
  {
   "cell_type": "markdown",
   "metadata": {},
   "source": [
    "***Using Decision Tree***"
   ]
  },
  {
   "cell_type": "code",
   "execution_count": 63,
   "metadata": {},
   "outputs": [
    {
     "name": "stdout",
     "output_type": "stream",
     "text": [
      "\n",
      "Classification Report--> \n",
      "\n",
      "\n",
      "              precision    recall  f1-score   support\n",
      "\n",
      "           0       0.98      1.00      0.99    998162\n",
      "           1       0.06      0.00      0.01     20390\n",
      "\n",
      "    accuracy                           0.98   1018552\n",
      "   macro avg       0.52      0.50      0.50   1018552\n",
      "weighted avg       0.96      0.98      0.97   1018552\n",
      "\n",
      "\n",
      "Confusion Matrix--> \n",
      "\n",
      "\n",
      "[[996851   1311]\n",
      " [ 20306     84]]\n"
     ]
    }
   ],
   "source": [
    "dtree2= DecisionTreeClassifier()\n",
    "dtree2.fit(XX_train,yy_train)\n",
    "predictions2= dtree.predict(XX_test)\n",
    "print(\"\\nClassification Report--> \\n\\n\")\n",
    "print(classification_report(yy_test,predictions2))\n",
    "print(\"\\nConfusion Matrix--> \\n\\n\")\n",
    "print(confusion_matrix(yy_test,predictions2))"
   ]
  },
  {
   "cell_type": "markdown",
   "metadata": {},
   "source": [
    "***Results:***\n",
    "\n",
    "**It seems like the model didn't do well**\n",
    "* Though the precision is good, it is noticed that the model had better predictions for only case: 0\n",
    "* Also, checking the recall, it is noticed that case: 1 is neglected."
   ]
  },
  {
   "cell_type": "code",
   "execution_count": 66,
   "metadata": {},
   "outputs": [
    {
     "name": "stdout",
     "output_type": "stream",
     "text": [
      "dot: graph is too large for cairo-renderer bitmaps. Scaling by 0.295846 to fit\r\n",
      "\n"
     ]
    },
    {
     "data": {
      "text/plain": [
       "True"
      ]
     },
     "execution_count": 66,
     "metadata": {},
     "output_type": "execute_result"
    }
   ],
   "source": [
    "#Decision Tree Visualization\n",
    "clf2 = DecisionTreeClassifier(criterion = \"entropy\", max_depth=10)\n",
    "clf2.fit(XX_train,yy_train)\n",
    "dot_data2 = StringIO()\n",
    "export_graphviz(clf2, out_file=dot_data2, filled=True, rounded=True, special_characters=True,feature_names = X.columns.tolist(),class_names=['0','1'])\n",
    "graph2 = pydotplus.graph_from_dot_data(dot_data2.getvalue())\n",
    "graph2.write_png('data2.png')\n",
    "#Image(graph2.create_png())"
   ]
  }
 ],
 "metadata": {
  "kernelspec": {
   "display_name": "Python 3",
   "language": "python",
   "name": "python3"
  },
  "language_info": {
   "codemirror_mode": {
    "name": "ipython",
    "version": 3
   },
   "file_extension": ".py",
   "mimetype": "text/x-python",
   "name": "python",
   "nbconvert_exporter": "python",
   "pygments_lexer": "ipython3",
   "version": "3.8.5"
  }
 },
 "nbformat": 4,
 "nbformat_minor": 1
}
